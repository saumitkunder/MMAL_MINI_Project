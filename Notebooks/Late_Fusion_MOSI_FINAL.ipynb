{
  "cells": [
    {
      "cell_type": "markdown",
      "id": "067cb8f5-a1c8-40d0-8524-0b28f8e4b586",
      "metadata": {
        "id": "067cb8f5-a1c8-40d0-8524-0b28f8e4b586"
      },
      "source": [
        "# Late Fusion Model - CMU-MOSI Dataset"
      ]
    },
    {
      "cell_type": "markdown",
      "id": "dc5714ca-83db-40ac-aef0-ee05dfddd1a3",
      "metadata": {
        "id": "dc5714ca-83db-40ac-aef0-ee05dfddd1a3"
      },
      "source": [
        "In this notebook, we implement the Late Fusion Model, and test it on CMU-MOSI dataset."
      ]
    },
    {
      "cell_type": "code",
      "source": [
        "# Clone the GitHub repository\n",
        "!git clone https://github.com/rugvedmhatre/Multimodal-Sentiment-Analysis.git\n",
        "%cd Multimodal-Sentiment-Analysis"
      ],
      "metadata": {
        "colab": {
          "base_uri": "https://localhost:8080/"
        },
        "id": "oBP-HW7XiRyB",
        "outputId": "dcb5cff1-bbf7-459c-d99e-a9797ffd907e"
      },
      "id": "oBP-HW7XiRyB",
      "execution_count": 1,
      "outputs": [
        {
          "output_type": "stream",
          "name": "stdout",
          "text": [
            "fatal: destination path 'Multimodal-Sentiment-Analysis' already exists and is not an empty directory.\n",
            "/content/Multimodal-Sentiment-Analysis\n"
          ]
        }
      ]
    },
    {
      "cell_type": "code",
      "source": [
        "!pip install torch==1.12.1 torchvision==0.13.1\n"
      ],
      "metadata": {
        "colab": {
          "base_uri": "https://localhost:8080/"
        },
        "id": "sgc2Ab7ciq0U",
        "outputId": "0bd1b413-6787-4ce4-c22b-7e290bdd11a3"
      },
      "id": "sgc2Ab7ciq0U",
      "execution_count": 8,
      "outputs": [
        {
          "output_type": "stream",
          "name": "stdout",
          "text": [
            "Requirement already satisfied: torch==1.12.1 in /usr/local/lib/python3.10/dist-packages (1.12.1)\n",
            "Collecting torchvision==0.13.1\n",
            "  Downloading torchvision-0.13.1-cp310-cp310-manylinux1_x86_64.whl.metadata (10 kB)\n",
            "Requirement already satisfied: typing-extensions in /usr/local/lib/python3.10/dist-packages (from torch==1.12.1) (4.12.2)\n",
            "Requirement already satisfied: numpy in /usr/local/lib/python3.10/dist-packages (from torchvision==0.13.1) (1.26.4)\n",
            "Requirement already satisfied: requests in /usr/local/lib/python3.10/dist-packages (from torchvision==0.13.1) (2.32.3)\n",
            "Requirement already satisfied: pillow!=8.3.*,>=5.3.0 in /usr/local/lib/python3.10/dist-packages (from torchvision==0.13.1) (11.0.0)\n",
            "Requirement already satisfied: charset-normalizer<4,>=2 in /usr/local/lib/python3.10/dist-packages (from requests->torchvision==0.13.1) (3.4.0)\n",
            "Requirement already satisfied: idna<4,>=2.5 in /usr/local/lib/python3.10/dist-packages (from requests->torchvision==0.13.1) (3.10)\n",
            "Requirement already satisfied: urllib3<3,>=1.21.1 in /usr/local/lib/python3.10/dist-packages (from requests->torchvision==0.13.1) (2.2.3)\n",
            "Requirement already satisfied: certifi>=2017.4.17 in /usr/local/lib/python3.10/dist-packages (from requests->torchvision==0.13.1) (2024.8.30)\n",
            "Downloading torchvision-0.13.1-cp310-cp310-manylinux1_x86_64.whl (19.1 MB)\n",
            "\u001b[2K   \u001b[90m━━━━━━━━━━━━━━━━━━━━━━━━━━━━━━━━━━━━━━━━\u001b[0m \u001b[32m19.1/19.1 MB\u001b[0m \u001b[31m84.4 MB/s\u001b[0m eta \u001b[36m0:00:00\u001b[0m\n",
            "\u001b[?25hInstalling collected packages: torchvision\n",
            "  Attempting uninstall: torchvision\n",
            "    Found existing installation: torchvision 0.20.0+cpu\n",
            "    Uninstalling torchvision-0.20.0+cpu:\n",
            "      Successfully uninstalled torchvision-0.20.0+cpu\n",
            "Successfully installed torchvision-0.13.1\n"
          ]
        }
      ]
    },
    {
      "cell_type": "code",
      "source": [
        "\n",
        "# Add project directory to Python path\n",
        "import sys\n",
        "sys.path.append('/content/Multimodal-Sentiment-Analysis')\n"
      ],
      "metadata": {
        "id": "gVOJ-lLniUrL"
      },
      "id": "gVOJ-lLniUrL",
      "execution_count": 3,
      "outputs": []
    },
    {
      "cell_type": "markdown",
      "id": "fc015c8e-f315-40d9-823c-6fc3626a4510",
      "metadata": {
        "id": "fc015c8e-f315-40d9-823c-6fc3626a4510"
      },
      "source": [
        "## Importing Libraries"
      ]
    },
    {
      "cell_type": "code",
      "execution_count": 4,
      "id": "d4a4adae-a451-493d-9ddb-0efb28537923",
      "metadata": {
        "id": "d4a4adae-a451-493d-9ddb-0efb28537923"
      },
      "outputs": [],
      "source": [
        "import os\n",
        "import sys\n",
        "import torch\n",
        "import importlib\n",
        "\n",
        "import numpy as np\n",
        "import matplotlib.pyplot as plt\n",
        "\n",
        "sys.path.append(os.getcwd())\n",
        "sys.path.append(os.path.dirname(os.path.dirname(os.getcwd())))"
      ]
    },
    {
      "cell_type": "markdown",
      "id": "52a35966-1fba-4107-a1fc-1137f26224bf",
      "metadata": {
        "id": "52a35966-1fba-4107-a1fc-1137f26224bf"
      },
      "source": [
        "## Importing Helper Functions"
      ]
    },
    {
      "cell_type": "code",
      "source": [
        "!ls /content/Multimodal-Sentiment-Analysis/notebooks/helpers\n"
      ],
      "metadata": {
        "colab": {
          "base_uri": "https://localhost:8080/"
        },
        "id": "w-LZBzKOiiSb",
        "outputId": "6f083bb7-c1c0-466b-c8f7-ff7c90217419"
      },
      "id": "w-LZBzKOiiSb",
      "execution_count": 5,
      "outputs": [
        {
          "output_type": "stream",
          "name": "stdout",
          "text": [
            "data  eval  fusions  objective_functions  robustness  training\tunimodals  utils\n"
          ]
        }
      ]
    },
    {
      "cell_type": "code",
      "source": [
        "import sys\n",
        "sys.path.append('/content/Multimodal-Sentiment-Analysis/notebooks')\n"
      ],
      "metadata": {
        "id": "MEx_FqTsilw2"
      },
      "id": "MEx_FqTsilw2",
      "execution_count": 6,
      "outputs": []
    },
    {
      "cell_type": "code",
      "source": [
        "!pip install memory-profiler\n"
      ],
      "metadata": {
        "colab": {
          "base_uri": "https://localhost:8080/"
        },
        "id": "w7I-uXJ3lGa7",
        "outputId": "516705e7-07f0-4e76-b3c0-98730f6ccf36"
      },
      "id": "w7I-uXJ3lGa7",
      "execution_count": 10,
      "outputs": [
        {
          "output_type": "stream",
          "name": "stdout",
          "text": [
            "Collecting memory-profiler\n",
            "  Downloading memory_profiler-0.61.0-py3-none-any.whl.metadata (20 kB)\n",
            "Requirement already satisfied: psutil in /usr/local/lib/python3.10/dist-packages (from memory-profiler) (5.9.5)\n",
            "Downloading memory_profiler-0.61.0-py3-none-any.whl (31 kB)\n",
            "Installing collected packages: memory-profiler\n",
            "Successfully installed memory-profiler-0.61.0\n"
          ]
        }
      ]
    },
    {
      "cell_type": "code",
      "execution_count": 11,
      "id": "b8d45f84-62c1-4315-9010-45d345dda90d",
      "metadata": {
        "id": "b8d45f84-62c1-4315-9010-45d345dda90d"
      },
      "outputs": [],
      "source": [
        "from helpers.data.get_data import get_dataloader\n",
        "from helpers.unimodals.common_models import GRU, MLP\n",
        "from helpers.training.supervised_learning import train, test\n",
        "from helpers.fusions.common_fusions import Concat\n",
        "from helpers.utils.common_utils import get_default_device, save_results"
      ]
    },
    {
      "cell_type": "markdown",
      "id": "8dc9b148-2e2f-4cfa-a7d4-d53b639f5b18",
      "metadata": {
        "id": "8dc9b148-2e2f-4cfa-a7d4-d53b639f5b18"
      },
      "source": [
        "## Loading the Dataset"
      ]
    },
    {
      "cell_type": "code",
      "source": [
        "!gdown https://drive.google.com/u/0/uc?id=1szKIqO0t3Be_W91xvf6aYmsVVUa7wDHU"
      ],
      "metadata": {
        "colab": {
          "base_uri": "https://localhost:8080/"
        },
        "id": "2mAk_UK2lN0p",
        "outputId": "0e99164b-0dfe-43d6-d7e3-13d37ac8a4f8"
      },
      "id": "2mAk_UK2lN0p",
      "execution_count": 12,
      "outputs": [
        {
          "output_type": "stream",
          "name": "stdout",
          "text": [
            "Downloading...\n",
            "From (original): https://drive.google.com/u/0/uc?id=1szKIqO0t3Be_W91xvf6aYmsVVUa7wDHU\n",
            "From (redirected): https://drive.google.com/uc?id=1szKIqO0t3Be_W91xvf6aYmsVVUa7wDHU&confirm=t&uuid=9e8ae654-9793-4fcf-965d-b366cd7d4633\n",
            "To: /content/Multimodal-Sentiment-Analysis/mosi_raw.pkl\n",
            "100% 357M/357M [00:01<00:00, 188MB/s]\n"
          ]
        }
      ]
    },
    {
      "cell_type": "code",
      "execution_count": 13,
      "id": "7f193c63-0bfb-4248-a2a8-e81ca20a7c14",
      "metadata": {
        "id": "7f193c63-0bfb-4248-a2a8-e81ca20a7c14"
      },
      "outputs": [],
      "source": [
        "traindata, validdata, testdata = get_dataloader(\n",
        "    '/content/Multimodal-Sentiment-Analysis/mosi_raw.pkl', robust_test=False, data_type='mosi')"
      ]
    },
    {
      "cell_type": "code",
      "execution_count": 14,
      "id": "75b021aa-09ec-4739-92d3-028a0ed54287",
      "metadata": {
        "colab": {
          "base_uri": "https://localhost:8080/"
        },
        "id": "75b021aa-09ec-4739-92d3-028a0ed54287",
        "outputId": "5e5637f7-4dd7-4ab1-a69e-e0d0abc4b110"
      },
      "outputs": [
        {
          "output_type": "stream",
          "name": "stdout",
          "text": [
            "cpu\n"
          ]
        }
      ],
      "source": [
        "device = get_default_device()\n",
        "print(device)"
      ]
    },
    {
      "cell_type": "markdown",
      "id": "a1b80fea-4d34-4db8-a1ed-9ca4e853bbd4",
      "metadata": {
        "id": "a1b80fea-4d34-4db8-a1ed-9ca4e853bbd4"
      },
      "source": [
        "## Model Architecture"
      ]
    },
    {
      "cell_type": "code",
      "execution_count": 15,
      "id": "59286eb3-949a-4afb-b4f4-0b115b885f92",
      "metadata": {
        "id": "59286eb3-949a-4afb-b4f4-0b115b885f92"
      },
      "outputs": [],
      "source": [
        "encoders = [GRU(35, 70, dropout=True, has_padding=True, batch_first=True).to(device),\n",
        "            GRU(74, 200, dropout=True, has_padding=True, batch_first=True).to(device),\n",
        "            GRU(300, 600, dropout=True, has_padding=True, batch_first=True).to(device)]\n",
        "head = MLP(870, 870, 1).to(device)"
      ]
    },
    {
      "cell_type": "code",
      "execution_count": 16,
      "id": "63408731-2f89-4f01-b1d4-c169817fd8a8",
      "metadata": {
        "id": "63408731-2f89-4f01-b1d4-c169817fd8a8"
      },
      "outputs": [],
      "source": [
        "fusion = Concat().to(device)"
      ]
    },
    {
      "cell_type": "markdown",
      "id": "4575e9d5-572c-4810-ba00-030f8ded6f05",
      "metadata": {
        "id": "4575e9d5-572c-4810-ba00-030f8ded6f05"
      },
      "source": [
        "## Training"
      ]
    },
    {
      "cell_type": "code",
      "execution_count": 17,
      "id": "f0b5dfe9-6677-4494-a013-7343ed43b731",
      "metadata": {
        "id": "f0b5dfe9-6677-4494-a013-7343ed43b731"
      },
      "outputs": [],
      "source": [
        "FILE_NAME = 'mosi_lf_r0'"
      ]
    },
    {
      "cell_type": "code",
      "execution_count": 19,
      "id": "d9a645da-32a4-419a-9d64-2f499da509ac",
      "metadata": {
        "colab": {
          "base_uri": "https://localhost:8080/"
        },
        "id": "d9a645da-32a4-419a-9d64-2f499da509ac",
        "outputId": "b6d1dc0b-039c-4497-8b1c-4577408d7009"
      },
      "outputs": [
        {
          "output_type": "stream",
          "name": "stdout",
          "text": [
            "Epoch [1/100]\n",
            "Train Loss: 1.1887\n",
            "Valid Loss: 1.0948\n",
            "Saving Best\n",
            "\n",
            "Epoch [2/100]\n",
            "Train Loss: 0.9407\n",
            "Valid Loss: 1.1807\n",
            "\n",
            "Epoch [3/100]\n",
            "Train Loss: 0.8914\n",
            "Valid Loss: 1.0076\n",
            "Saving Best\n",
            "\n",
            "Epoch [4/100]\n",
            "Train Loss: 0.7768\n",
            "Valid Loss: 0.9703\n",
            "Saving Best\n",
            "\n",
            "Epoch [5/100]\n",
            "Train Loss: 0.7531\n",
            "Valid Loss: 0.9722\n",
            "\n",
            "Epoch [6/100]\n",
            "Train Loss: 0.6792\n",
            "Valid Loss: 0.9705\n",
            "\n",
            "Epoch [7/100]\n",
            "Train Loss: 0.6311\n",
            "Valid Loss: 0.9907\n",
            "\n",
            "Epoch [8/100]\n",
            "Train Loss: 0.5947\n",
            "Valid Loss: 0.9438\n",
            "Saving Best\n",
            "\n",
            "Epoch [9/100]\n",
            "Train Loss: 0.5433\n",
            "Valid Loss: 0.9518\n",
            "\n",
            "Epoch [10/100]\n",
            "Train Loss: 0.5002\n",
            "Valid Loss: 0.9743\n",
            "\n",
            "Epoch [11/100]\n",
            "Train Loss: 0.4820\n",
            "Valid Loss: 0.9631\n",
            "\n",
            "Epoch [12/100]\n",
            "Train Loss: 0.4351\n",
            "Valid Loss: 1.0006\n",
            "\n",
            "Epoch [13/100]\n",
            "Train Loss: 0.4105\n",
            "Valid Loss: 0.9748\n",
            "\n",
            "Epoch [14/100]\n",
            "Train Loss: 0.4204\n",
            "Valid Loss: 1.0510\n",
            "\n",
            "Epoch [15/100]\n",
            "Train Loss: 0.3823\n",
            "Valid Loss: 1.0133\n",
            "\n",
            "Epoch [16/100]\n",
            "Train Loss: 0.3549\n",
            "Valid Loss: 1.0079\n",
            "\n",
            "Epoch [17/100]\n",
            "Train Loss: 0.3194\n",
            "Valid Loss: 0.9998\n",
            "\n",
            "Epoch [18/100]\n",
            "Train Loss: 0.3103\n",
            "Valid Loss: 0.9669\n",
            "\n",
            "Epoch [19/100]\n",
            "Train Loss: 0.2903\n",
            "Valid Loss: 1.0191\n",
            "\n",
            "Epoch [20/100]\n",
            "Train Loss: 0.2748\n",
            "Valid Loss: 0.9688\n",
            "\n",
            "Epoch [21/100]\n",
            "Train Loss: 0.2547\n",
            "Valid Loss: 0.9798\n",
            "\n",
            "Epoch [22/100]\n",
            "Train Loss: 0.2734\n",
            "Valid Loss: 0.9981\n",
            "\n",
            "Epoch [23/100]\n",
            "Train Loss: 0.2491\n",
            "Valid Loss: 0.9778\n",
            "\n",
            "Epoch [24/100]\n",
            "Train Loss: 0.2405\n",
            "Valid Loss: 0.9815\n",
            "\n",
            "Epoch [25/100]\n",
            "Train Loss: 0.2282\n",
            "Valid Loss: 1.0121\n",
            "\n",
            "Epoch [26/100]\n",
            "Train Loss: 0.2226\n",
            "Valid Loss: 0.9848\n",
            "\n",
            "Epoch [27/100]\n",
            "Train Loss: 0.2186\n",
            "Valid Loss: 0.9889\n",
            "\n",
            "Epoch [28/100]\n",
            "Train Loss: 0.2029\n",
            "Valid Loss: 0.9998\n",
            "\n",
            "Epoch [29/100]\n",
            "Train Loss: 0.2247\n",
            "Valid Loss: 0.9867\n",
            "\n",
            "Epoch [30/100]\n",
            "Train Loss: 0.1843\n",
            "Valid Loss: 0.9800\n",
            "\n",
            "Epoch [31/100]\n",
            "Train Loss: 0.1943\n",
            "Valid Loss: 1.0114\n",
            "\n",
            "Epoch [32/100]\n",
            "Train Loss: 0.1892\n",
            "Valid Loss: 0.9817\n",
            "\n",
            "Epoch [33/100]\n",
            "Train Loss: 0.1843\n",
            "Valid Loss: 0.9908\n",
            "\n",
            "Epoch [34/100]\n",
            "Train Loss: 0.1756\n",
            "Valid Loss: 0.9881\n",
            "\n",
            "Epoch [35/100]\n",
            "Train Loss: 0.1838\n",
            "Valid Loss: 0.9654\n",
            "\n",
            "Epoch [36/100]\n",
            "Train Loss: 0.1853\n",
            "Valid Loss: 0.9949\n",
            "\n",
            "Epoch [37/100]\n",
            "Train Loss: 0.1851\n",
            "Valid Loss: 0.9812\n",
            "\n",
            "Epoch [38/100]\n",
            "Train Loss: 0.1649\n",
            "Valid Loss: 0.9728\n",
            "\n",
            "Epoch [39/100]\n",
            "Train Loss: 0.1603\n",
            "Valid Loss: 1.0054\n",
            "\n",
            "Epoch [40/100]\n",
            "Train Loss: 0.1722\n",
            "Valid Loss: 0.9731\n",
            "\n",
            "Epoch [41/100]\n",
            "Train Loss: 0.1579\n",
            "Valid Loss: 0.9801\n",
            "\n",
            "Epoch [42/100]\n",
            "Train Loss: 0.1566\n",
            "Valid Loss: 0.9792\n",
            "\n",
            "Epoch [43/100]\n",
            "Train Loss: 0.1685\n",
            "Valid Loss: 0.9835\n",
            "\n",
            "Epoch [44/100]\n",
            "Train Loss: 0.1643\n",
            "Valid Loss: 0.9863\n",
            "\n",
            "Epoch [45/100]\n",
            "Train Loss: 0.1463\n",
            "Valid Loss: 0.9722\n",
            "\n",
            "Epoch [46/100]\n",
            "Train Loss: 0.1468\n",
            "Valid Loss: 0.9813\n",
            "\n",
            "Epoch [47/100]\n",
            "Train Loss: 0.1432\n",
            "Valid Loss: 0.9656\n",
            "\n",
            "Epoch [48/100]\n",
            "Train Loss: 0.1432\n",
            "Valid Loss: 0.9675\n",
            "\n",
            "Epoch [49/100]\n",
            "Train Loss: 0.1314\n",
            "Valid Loss: 0.9719\n",
            "\n",
            "Epoch [50/100]\n",
            "Train Loss: 0.1335\n",
            "Valid Loss: 0.9789\n",
            "\n",
            "Epoch [51/100]\n",
            "Train Loss: 0.1325\n",
            "Valid Loss: 0.9678\n",
            "\n",
            "Epoch [52/100]\n",
            "Train Loss: 0.1354\n",
            "Valid Loss: 0.9704\n",
            "\n",
            "Epoch [53/100]\n",
            "Train Loss: 0.1323\n",
            "Valid Loss: 0.9758\n",
            "\n",
            "Epoch [54/100]\n",
            "Train Loss: 0.1364\n",
            "Valid Loss: 0.9628\n",
            "\n",
            "Epoch [55/100]\n",
            "Train Loss: 0.1358\n",
            "Valid Loss: 0.9626\n",
            "\n",
            "Epoch [56/100]\n",
            "Train Loss: 0.1358\n",
            "Valid Loss: 0.9576\n",
            "\n",
            "Epoch [57/100]\n",
            "Train Loss: 0.1187\n",
            "Valid Loss: 0.9758\n",
            "\n",
            "Epoch [58/100]\n",
            "Train Loss: 0.1194\n",
            "Valid Loss: 0.9423\n",
            "Saving Best\n",
            "\n",
            "Epoch [59/100]\n",
            "Train Loss: 0.1166\n",
            "Valid Loss: 0.9664\n",
            "\n",
            "Epoch [60/100]\n",
            "Train Loss: 0.1309\n",
            "Valid Loss: 0.9550\n",
            "\n",
            "Epoch [61/100]\n",
            "Train Loss: 0.1300\n",
            "Valid Loss: 0.9574\n",
            "\n",
            "Epoch [62/100]\n",
            "Train Loss: 0.1221\n",
            "Valid Loss: 0.9512\n",
            "\n",
            "Epoch [63/100]\n",
            "Train Loss: 0.1415\n",
            "Valid Loss: 0.9873\n",
            "\n",
            "Epoch [64/100]\n",
            "Train Loss: 0.1352\n",
            "Valid Loss: 0.9733\n",
            "\n",
            "Epoch [65/100]\n",
            "Train Loss: 0.1288\n",
            "Valid Loss: 0.9775\n",
            "\n",
            "Epoch [66/100]\n",
            "Train Loss: 0.1210\n",
            "Valid Loss: 0.9534\n",
            "\n",
            "Epoch [67/100]\n",
            "Train Loss: 0.1322\n",
            "Valid Loss: 0.9858\n",
            "\n",
            "Epoch [68/100]\n",
            "Train Loss: 0.1243\n",
            "Valid Loss: 0.9603\n",
            "\n",
            "Epoch [69/100]\n",
            "Train Loss: 0.1285\n",
            "Valid Loss: 0.9669\n",
            "\n",
            "Epoch [70/100]\n",
            "Train Loss: 0.1214\n",
            "Valid Loss: 0.9661\n",
            "\n",
            "Epoch [71/100]\n",
            "Train Loss: 0.1210\n",
            "Valid Loss: 0.9638\n",
            "\n",
            "Epoch [72/100]\n",
            "Train Loss: 0.1085\n",
            "Valid Loss: 0.9687\n",
            "\n",
            "Epoch [73/100]\n",
            "Train Loss: 0.1132\n",
            "Valid Loss: 0.9505\n",
            "\n",
            "Epoch [74/100]\n",
            "Train Loss: 0.1107\n",
            "Valid Loss: 0.9745\n",
            "\n",
            "Epoch [75/100]\n",
            "Train Loss: 0.1167\n",
            "Valid Loss: 0.9800\n",
            "\n",
            "Epoch [76/100]\n",
            "Train Loss: 0.1160\n",
            "Valid Loss: 0.9506\n",
            "\n",
            "Epoch [77/100]\n",
            "Train Loss: 0.1185\n",
            "Valid Loss: 0.9704\n",
            "\n",
            "Epoch [78/100]\n",
            "Train Loss: 0.1116\n",
            "Valid Loss: 0.9646\n",
            "\n",
            "Epoch [79/100]\n",
            "Train Loss: 0.1110\n",
            "Valid Loss: 0.9592\n",
            "\n",
            "Epoch [80/100]\n",
            "Train Loss: 0.1146\n",
            "Valid Loss: 0.9583\n",
            "\n",
            "Epoch [81/100]\n",
            "Train Loss: 0.1097\n",
            "Valid Loss: 0.9719\n",
            "\n",
            "Epoch [82/100]\n",
            "Train Loss: 0.1185\n",
            "Valid Loss: 0.9543\n",
            "\n",
            "Epoch [83/100]\n",
            "Train Loss: 0.1073\n",
            "Valid Loss: 0.9568\n",
            "\n",
            "Epoch [84/100]\n",
            "Train Loss: 0.1135\n",
            "Valid Loss: 0.9510\n",
            "\n",
            "Epoch [85/100]\n",
            "Train Loss: 0.1126\n",
            "Valid Loss: 0.9710\n",
            "\n",
            "Epoch [86/100]\n",
            "Train Loss: 0.1077\n",
            "Valid Loss: 0.9429\n",
            "\n",
            "Epoch [87/100]\n",
            "Train Loss: 0.1048\n",
            "Valid Loss: 0.9535\n",
            "\n",
            "Epoch [88/100]\n",
            "Train Loss: 0.1137\n",
            "Valid Loss: 0.9671\n",
            "\n",
            "Epoch [89/100]\n",
            "Train Loss: 0.1024\n",
            "Valid Loss: 0.9686\n",
            "\n",
            "Epoch [90/100]\n",
            "Train Loss: 0.1083\n",
            "Valid Loss: 0.9681\n",
            "\n",
            "Epoch [91/100]\n",
            "Train Loss: 0.1006\n",
            "Valid Loss: 0.9642\n",
            "\n",
            "Epoch [92/100]\n",
            "Train Loss: 0.0993\n",
            "Valid Loss: 0.9569\n",
            "\n",
            "Epoch [93/100]\n",
            "Train Loss: 0.0974\n",
            "Valid Loss: 0.9587\n",
            "\n",
            "Epoch [94/100]\n",
            "Train Loss: 0.1038\n",
            "Valid Loss: 0.9426\n",
            "\n",
            "Epoch [95/100]\n",
            "Train Loss: 0.0990\n",
            "Valid Loss: 0.9661\n",
            "\n",
            "Epoch [96/100]\n",
            "Train Loss: 0.1016\n",
            "Valid Loss: 0.9530\n",
            "\n",
            "Epoch [97/100]\n",
            "Train Loss: 0.0961\n",
            "Valid Loss: 0.9495\n",
            "\n",
            "Epoch [98/100]\n",
            "Train Loss: 0.0989\n",
            "Valid Loss: 0.9456\n",
            "\n",
            "Epoch [99/100]\n",
            "Train Loss: 0.0993\n",
            "Valid Loss: 0.9568\n",
            "\n",
            "Epoch [100/100]\n",
            "Train Loss: 0.1025\n",
            "Valid Loss: 0.9581\n",
            "\n",
            "Training Time: 17m56s\n",
            "Training Peak Mem: 1074.32421875\n",
            "Training Params: 2570311\n"
          ]
        }
      ],
      "source": [
        "train_losses, valid_losses = train(\n",
        "    encoders, fusion, head, traindata, validdata, 100, task=\"regression\", optimtype=torch.optim.AdamW,\n",
        "    early_stop=False, is_packed=True, lr=1e-3, save=f'/content/drive/MyDrive/Btech project/saum_mmal/models/{FILE_NAME}.pt',\n",
        "    weight_decay=0.01, objective=torch.nn.L1Loss()\n",
        ")"
      ]
    },
    {
      "cell_type": "code",
      "execution_count": 20,
      "id": "b0e7c33a-a68d-4292-a2b2-14e8a2e53500",
      "metadata": {
        "colab": {
          "base_uri": "https://localhost:8080/",
          "height": 489
        },
        "id": "b0e7c33a-a68d-4292-a2b2-14e8a2e53500",
        "outputId": "dc88f07f-ec34-4849-b33f-43000c5feeb1"
      },
      "outputs": [
        {
          "output_type": "execute_result",
          "data": {
            "text/plain": [
              "Text(0.5, 1.0, 'Loss vs. No. of epochs')"
            ]
          },
          "metadata": {},
          "execution_count": 20
        },
        {
          "output_type": "display_data",
          "data": {
            "text/plain": [
              "<Figure size 640x480 with 1 Axes>"
            ],
            "image/png": "[encoded data removed]"
          },
          "metadata": {}
        }
      ],
      "source": [
        "plt.plot(train_losses, label='Train Loss')\n",
        "plt.plot(valid_losses, label='Validation Loss')\n",
        "plt.xlabel('Epochs')\n",
        "plt.ylabel('Loss')\n",
        "plt.legend()\n",
        "plt.grid(True)\n",
        "plt.title('Loss vs. No. of epochs')"
      ]
    },
    {
      "cell_type": "code",
      "execution_count": 22,
      "id": "8bbd60df-8764-4fcd-a545-90860e5f8a2c",
      "metadata": {
        "id": "8bbd60df-8764-4fcd-a545-90860e5f8a2c"
      },
      "outputs": [],
      "source": [
        "save_results(train_losses, valid_losses, f'/content/drive/MyDrive/Btech project/saum_mmal/results/{FILE_NAME}.pkl')"
      ]
    },
    {
      "cell_type": "markdown",
      "id": "a2a0ca4a-2c05-4ba2-a6aa-1db0e341598b",
      "metadata": {
        "id": "a2a0ca4a-2c05-4ba2-a6aa-1db0e341598b"
      },
      "source": [
        "## Testing"
      ]
    },
    {
      "cell_type": "code",
      "execution_count": 24,
      "id": "d4352442-0d78-4195-bd04-2332af36a7f7",
      "metadata": {
        "colab": {
          "base_uri": "https://localhost:8080/"
        },
        "id": "d4352442-0d78-4195-bd04-2332af36a7f7",
        "outputId": "4aa6c511-e509-4fa4-9d79-132cd822e915"
      },
      "outputs": [
        {
          "output_type": "stream",
          "name": "stdout",
          "text": [
            "Recall: 71.4939% | Total Accuracy: 71.2828%\n",
            "Inference Time: 1s845ms\n",
            "Inference Params: 2570311\n"
          ]
        }
      ],
      "source": [
        "model = torch.load(f'/content/drive/MyDrive/Btech project/saum_mmal/models/{FILE_NAME}.pt').to(device)\n",
        "\n",
        "test(model, test_dataloaders_all=testdata, dataset='mosi', is_packed=True,\n",
        "     criterion=torch.nn.L1Loss(), task=\"posneg-classification\", no_robust=True)"
      ]
    },
    {
      "cell_type": "code",
      "execution_count": null,
      "id": "dd7d4419-cc6b-4022-9b93-49772c55a675",
      "metadata": {
        "id": "dd7d4419-cc6b-4022-9b93-49772c55a675"
      },
      "outputs": [],
      "source": []
    }
  ],
  "metadata": {
    "kernelspec": {
      "display_name": "Python 3",
      "name": "python3"
    },
    "language_info": {
      "codemirror_mode": {
        "name": "ipython",
        "version": 3
      },
      "file_extension": ".py",
      "mimetype": "text/x-python",
      "name": "python",
      "nbconvert_exporter": "python",
      "pygments_lexer": "ipython3",
      "version": "3.11.7"
    },
    "colab": {
      "provenance": [],
      "gpuType": "V28"
    },
    "accelerator": "TPU"
  },
  "nbformat": 4,
  "nbformat_minor": 5
}