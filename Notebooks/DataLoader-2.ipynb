{
  "cells": [
    {
      "cell_type": "code",
      "execution_count": null,
      "id": "83be7887",
      "metadata": {
        "colab": {
          "base_uri": "https://localhost:8080/"
        },
        "id": "83be7887",
        "outputId": "8ffadc62-fd45-4f6a-c1c4-036468d3258f"
      },
      "outputs": [
        {
          "output_type": "stream",
          "name": "stdout",
          "text": [
            "Cloning into 'Multimodal-Sentiment-Analysis'...\n",
            "remote: Enumerating objects: 207, done.\u001b[K\n",
            "remote: Counting objects: 100% (66/66), done.\u001b[K\n",
            "remote: Compressing objects: 100% (55/55), done.\u001b[K\n",
            "remote: Total 207 (delta 28), reused 30 (delta 11), pack-reused 141 (from 1)\u001b[K\n",
            "Receiving objects: 100% (207/207), 279.75 MiB | 49.19 MiB/s, done.\n",
            "Resolving deltas: 100% (66/66), done.\n",
            "Updating files: 100% (72/72), done.\n",
            "/content/Multimodal-Sentiment-Analysis\n"
          ]
        }
      ],
      "source": [
        "\n",
        "# Clone the GitHub repository\n",
        "!git clone https://github.com/rugvedmhatre/Multimodal-Sentiment-Analysis.git\n",
        "%cd Multimodal-Sentiment-Analysis\n"
      ]
    },
    {
      "cell_type": "code",
      "execution_count": null,
      "id": "88b3bc27",
      "metadata": {
        "id": "88b3bc27"
      },
      "outputs": [],
      "source": [
        "\n",
        "# Add project directory to Python path\n",
        "import sys\n",
        "sys.path.append('/content/Multimodal-Sentiment-Analysis')\n"
      ]
    },
    {
      "cell_type": "code",
      "source": [
        "!pip install torch==1.12.1 torchtext==0.13.1\n"
      ],
      "metadata": {
        "colab": {
          "base_uri": "https://localhost:8080/"
        },
        "id": "5MnfKKyV6gY4",
        "outputId": "e9c36814-893b-4741-be8b-87dfedfd4125"
      },
      "id": "5MnfKKyV6gY4",
      "execution_count": null,
      "outputs": [
        {
          "output_type": "stream",
          "name": "stdout",
          "text": [
            "Collecting torch==1.12.1\n",
            "  Downloading torch-1.12.1-cp310-cp310-manylinux1_x86_64.whl.metadata (22 kB)\n",
            "Collecting torchtext==0.13.1\n",
            "  Downloading torchtext-0.13.1-cp310-cp310-manylinux1_x86_64.whl.metadata (6.9 kB)\n",
            "Requirement already satisfied: typing-extensions in /usr/local/lib/python3.10/dist-packages (from torch==1.12.1) (4.12.2)\n",
            "Requirement already satisfied: tqdm in /usr/local/lib/python3.10/dist-packages (from torchtext==0.13.1) (4.66.6)\n",
            "Requirement already satisfied: requests in /usr/local/lib/python3.10/dist-packages (from torchtext==0.13.1) (2.32.3)\n",
            "Requirement already satisfied: numpy in /usr/local/lib/python3.10/dist-packages (from torchtext==0.13.1) (1.26.4)\n",
            "Requirement already satisfied: charset-normalizer<4,>=2 in /usr/local/lib/python3.10/dist-packages (from requests->torchtext==0.13.1) (3.4.0)\n",
            "Requirement already satisfied: idna<4,>=2.5 in /usr/local/lib/python3.10/dist-packages (from requests->torchtext==0.13.1) (3.10)\n",
            "Requirement already satisfied: urllib3<3,>=1.21.1 in /usr/local/lib/python3.10/dist-packages (from requests->torchtext==0.13.1) (2.2.3)\n",
            "Requirement already satisfied: certifi>=2017.4.17 in /usr/local/lib/python3.10/dist-packages (from requests->torchtext==0.13.1) (2024.8.30)\n",
            "Downloading torch-1.12.1-cp310-cp310-manylinux1_x86_64.whl (776.3 MB)\n",
            "\u001b[2K   \u001b[90m━━━━━━━━━━━━━━━━━━━━━━━━━━━━━━━━━━━━━━━━\u001b[0m \u001b[32m776.3/776.3 MB\u001b[0m \u001b[31m410.8 kB/s\u001b[0m eta \u001b[36m0:00:00\u001b[0m\n",
            "\u001b[?25hDownloading torchtext-0.13.1-cp310-cp310-manylinux1_x86_64.whl (1.9 MB)\n",
            "\u001b[2K   \u001b[90m━━━━━━━━━━━━━━━━━━━━━━━━━━━━━━━━━━━━━━━━\u001b[0m \u001b[32m1.9/1.9 MB\u001b[0m \u001b[31m66.0 MB/s\u001b[0m eta \u001b[36m0:00:00\u001b[0m\n",
            "\u001b[?25hInstalling collected packages: torch, torchtext\n",
            "  Attempting uninstall: torch\n",
            "    Found existing installation: torch 2.5.0+cpu\n",
            "    Uninstalling torch-2.5.0+cpu:\n",
            "      Successfully uninstalled torch-2.5.0+cpu\n",
            "\u001b[31mERROR: pip's dependency resolver does not currently take into account all the packages that are installed. This behaviour is the source of the following dependency conflicts.\n",
            "torchaudio 2.5.0+cpu requires torch==2.5.0, but you have torch 1.12.1 which is incompatible.\n",
            "torchvision 0.20.0+cpu requires torch==2.5.0, but you have torch 1.12.1 which is incompatible.\u001b[0m\u001b[31m\n",
            "\u001b[0mSuccessfully installed torch-1.12.1 torchtext-0.13.1\n"
          ]
        }
      ]
    },
    {
      "cell_type": "code",
      "execution_count": null,
      "id": "c340a340",
      "metadata": {
        "colab": {
          "base_uri": "https://localhost:8080/"
        },
        "id": "c340a340",
        "outputId": "d626bd77-27cf-4afb-ec2d-00133629820a"
      },
      "outputs": [
        {
          "output_type": "stream",
          "name": "stdout",
          "text": [
            "Requirement already satisfied: numpy in /usr/local/lib/python3.10/dist-packages (1.26.4)\n",
            "Requirement already satisfied: matplotlib in /usr/local/lib/python3.10/dist-packages (3.8.0)\n",
            "Requirement already satisfied: gdown in /usr/local/lib/python3.10/dist-packages (5.2.0)\n",
            "Requirement already satisfied: contourpy>=1.0.1 in /usr/local/lib/python3.10/dist-packages (from matplotlib) (1.3.0)\n",
            "Requirement already satisfied: cycler>=0.10 in /usr/local/lib/python3.10/dist-packages (from matplotlib) (0.12.1)\n",
            "Requirement already satisfied: fonttools>=4.22.0 in /usr/local/lib/python3.10/dist-packages (from matplotlib) (4.54.1)\n",
            "Requirement already satisfied: kiwisolver>=1.0.1 in /usr/local/lib/python3.10/dist-packages (from matplotlib) (1.4.7)\n",
            "Requirement already satisfied: packaging>=20.0 in /usr/local/lib/python3.10/dist-packages (from matplotlib) (24.1)\n",
            "Requirement already satisfied: pillow>=6.2.0 in /usr/local/lib/python3.10/dist-packages (from matplotlib) (11.0.0)\n",
            "Requirement already satisfied: pyparsing>=2.3.1 in /usr/local/lib/python3.10/dist-packages (from matplotlib) (3.2.0)\n",
            "Requirement already satisfied: python-dateutil>=2.7 in /usr/local/lib/python3.10/dist-packages (from matplotlib) (2.9.0.post0)\n",
            "Requirement already satisfied: beautifulsoup4 in /usr/local/lib/python3.10/dist-packages (from gdown) (4.12.3)\n",
            "Requirement already satisfied: filelock in /usr/local/lib/python3.10/dist-packages (from gdown) (3.16.1)\n",
            "Requirement already satisfied: requests[socks] in /usr/local/lib/python3.10/dist-packages (from gdown) (2.32.3)\n",
            "Requirement already satisfied: tqdm in /usr/local/lib/python3.10/dist-packages (from gdown) (4.66.6)\n",
            "Requirement already satisfied: six>=1.5 in /usr/local/lib/python3.10/dist-packages (from python-dateutil>=2.7->matplotlib) (1.16.0)\n",
            "Requirement already satisfied: soupsieve>1.2 in /usr/local/lib/python3.10/dist-packages (from beautifulsoup4->gdown) (2.6)\n",
            "Requirement already satisfied: charset-normalizer<4,>=2 in /usr/local/lib/python3.10/dist-packages (from requests[socks]->gdown) (3.4.0)\n",
            "Requirement already satisfied: idna<4,>=2.5 in /usr/local/lib/python3.10/dist-packages (from requests[socks]->gdown) (3.10)\n",
            "Requirement already satisfied: urllib3<3,>=1.21.1 in /usr/local/lib/python3.10/dist-packages (from requests[socks]->gdown) (2.2.3)\n",
            "Requirement already satisfied: certifi>=2017.4.17 in /usr/local/lib/python3.10/dist-packages (from requests[socks]->gdown) (2024.8.30)\n",
            "Requirement already satisfied: PySocks!=1.5.7,>=1.5.6 in /usr/local/lib/python3.10/dist-packages (from requests[socks]->gdown) (1.7.1)\n"
          ]
        }
      ],
      "source": [
        "\n",
        "# Install required libraries\n",
        "!pip install numpy matplotlib gdown\n",
        "import importlib\n"
      ]
    },
    {
      "cell_type": "code",
      "source": [
        "!find /content/Multimodal-Sentiment-Analysis -name \"get_data.py\"\n"
      ],
      "metadata": {
        "colab": {
          "base_uri": "https://localhost:8080/"
        },
        "id": "PGgCIm--6GgF",
        "outputId": "e8216faa-9e6c-47ed-c1cf-b8449b5f4011"
      },
      "id": "PGgCIm--6GgF",
      "execution_count": null,
      "outputs": [
        {
          "output_type": "stream",
          "name": "stdout",
          "text": [
            "/content/Multimodal-Sentiment-Analysis/notebooks/helpers/data/get_data.py\n"
          ]
        }
      ]
    },
    {
      "cell_type": "code",
      "source": [
        "!ls /content/Multimodal-Sentiment-Analysis/notebooks/helpers\n"
      ],
      "metadata": {
        "colab": {
          "base_uri": "https://localhost:8080/"
        },
        "id": "9qjOcFMu7boU",
        "outputId": "9fdffedc-f2f5-4d09-c019-2d16d8b0cd25"
      },
      "id": "9qjOcFMu7boU",
      "execution_count": null,
      "outputs": [
        {
          "output_type": "stream",
          "name": "stdout",
          "text": [
            "data  eval  fusions  objective_functions  robustness  training\tunimodals  utils\n"
          ]
        }
      ]
    },
    {
      "cell_type": "code",
      "source": [
        "import sys\n",
        "sys.path.append('/content/Multimodal-Sentiment-Analysis/notebooks')\n"
      ],
      "metadata": {
        "id": "sZ7p7h5r7fH7"
      },
      "id": "sZ7p7h5r7fH7",
      "execution_count": null,
      "outputs": []
    },
    {
      "cell_type": "code",
      "source": [
        "from notebooks.helpers.data.get_data import get_dataloader\n"
      ],
      "metadata": {
        "id": "UWHEk1ST6VUG"
      },
      "id": "UWHEk1ST6VUG",
      "execution_count": null,
      "outputs": []
    },
    {
      "cell_type": "markdown",
      "id": "ea2bdf71-2737-450e-8ffe-3778b37ab227",
      "metadata": {
        "id": "ea2bdf71-2737-450e-8ffe-3778b37ab227"
      },
      "source": [
        "# Datasets"
      ]
    },
    {
      "cell_type": "markdown",
      "id": "8515def1-457a-473d-a174-fb93926798f7",
      "metadata": {
        "id": "8515def1-457a-473d-a174-fb93926798f7"
      },
      "source": [
        "In this notebook, we get the CMU-MOSI and CMU-MOSEI dataset from CMU's Google Drive Directory. This directory has the the pickle files that we require for our project."
      ]
    },
    {
      "cell_type": "markdown",
      "id": "c2493849-e058-45b2-b17e-7e346b47bcd7",
      "metadata": {
        "id": "c2493849-e058-45b2-b17e-7e346b47bcd7"
      },
      "source": [
        "## Importing Libraries"
      ]
    },
    {
      "cell_type": "code",
      "execution_count": null,
      "id": "d341805b-5f78-4805-b991-69d532c8f7a4",
      "metadata": {
        "id": "d341805b-5f78-4805-b991-69d532c8f7a4"
      },
      "outputs": [],
      "source": [
        "import numpy as np\n",
        "import matplotlib.pyplot as plt"
      ]
    },
    {
      "cell_type": "code",
      "execution_count": null,
      "id": "e313ef9a-0e2c-4756-bdef-fca04f4554af",
      "metadata": {
        "id": "e313ef9a-0e2c-4756-bdef-fca04f4554af"
      },
      "outputs": [],
      "source": [
        "# !mkdir data\n",
        "# !pip install gdown"
      ]
    },
    {
      "cell_type": "markdown",
      "id": "3051b460-8922-4b55-9d4b-5443a80602db",
      "metadata": {
        "id": "3051b460-8922-4b55-9d4b-5443a80602db"
      },
      "source": [
        "## Importing Helper Functions"
      ]
    },
    {
      "cell_type": "code",
      "execution_count": null,
      "id": "69af5f2f-9c87-4e1c-8132-2cf5d9afcca1",
      "metadata": {
        "id": "69af5f2f-9c87-4e1c-8132-2cf5d9afcca1"
      },
      "outputs": [],
      "source": [
        "from helpers.data.get_data import get_dataloader"
      ]
    },
    {
      "cell_type": "markdown",
      "source": [],
      "metadata": {
        "id": "FKWywg1gAt8j"
      },
      "id": "FKWywg1gAt8j"
    },
    {
      "cell_type": "markdown",
      "id": "f1fcebf2-62d4-4d85-ac26-f0c8484ad3b4",
      "metadata": {
        "id": "f1fcebf2-62d4-4d85-ac26-f0c8484ad3b4"
      },
      "source": [
        "## Downloading CMU-MOSI Dataset"
      ]
    },
    {
      "cell_type": "markdown",
      "id": "8e723522-ea5b-4d91-a808-b470125f2a21",
      "metadata": {
        "id": "8e723522-ea5b-4d91-a808-b470125f2a21"
      },
      "source": [
        "We download the pickle file from the Google Drive links from the documentation..."
      ]
    },
    {
      "cell_type": "markdown",
      "id": "ceb5d099-faa7-4f7d-afe6-c0419bf6a553",
      "metadata": {
        "id": "ceb5d099-faa7-4f7d-afe6-c0419bf6a553"
      },
      "source": [
        "### mosi_raw.pkl"
      ]
    },
    {
      "cell_type": "code",
      "execution_count": null,
      "id": "b1113467-da58-41d4-881a-dc48637ef385",
      "metadata": {
        "colab": {
          "base_uri": "https://localhost:8080/"
        },
        "id": "b1113467-da58-41d4-881a-dc48637ef385",
        "outputId": "c7a45c4a-ea22-4861-d401-69f09263c449"
      },
      "outputs": [
        {
          "output_type": "stream",
          "name": "stdout",
          "text": [
            "/bin/bash: line 1: cd: data: No such file or directory\n"
          ]
        }
      ],
      "source": [
        "!cd data\n",
        "# !gdown https://drive.google.com/u/0/uc?id=1szKIqO0t3Be_W91xvf6aYmsVVUa7wDHU"
      ]
    },
    {
      "cell_type": "markdown",
      "id": "f652310a-4536-4d55-bb49-0f350672416e",
      "metadata": {
        "id": "f652310a-4536-4d55-bb49-0f350672416e"
      },
      "source": [
        "### mosi_data.pkl"
      ]
    },
    {
      "cell_type": "code",
      "execution_count": null,
      "id": "d7f71818-45e0-4a12-be45-f8fdd67e6111",
      "metadata": {
        "colab": {
          "base_uri": "https://localhost:8080/"
        },
        "id": "d7f71818-45e0-4a12-be45-f8fdd67e6111",
        "outputId": "13e1c5c2-fb21-4e11-eeca-17fbc4a41b07"
      },
      "outputs": [
        {
          "output_type": "stream",
          "name": "stdout",
          "text": [
            "Downloading...\n",
            "From (original): https://drive.google.com/uc?id=1_XdzdW8UNG1TTS6QcX10uhoS6N11OBit\n",
            "From (redirected): https://drive.google.com/uc?id=1_XdzdW8UNG1TTS6QcX10uhoS6N11OBit&confirm=t&uuid=2945aa88-24a4-4b65-ab50-cb7e0494c759\n",
            "To: /content/Multimodal-Sentiment-Analysis/mosi_data.pkl\n",
            "100% 154M/154M [00:01<00:00, 79.8MB/s]\n"
          ]
        }
      ],
      "source": [
        "!gdown --fuzzy \"https://drive.google.com/file/d/1_XdzdW8UNG1TTS6QcX10uhoS6N11OBit/view?usp=share_link\""
      ]
    },
    {
      "cell_type": "markdown",
      "id": "20585a23-8381-4793-b7e2-85412199e89b",
      "metadata": {
        "id": "20585a23-8381-4793-b7e2-85412199e89b"
      },
      "source": [
        "## Exploring CMU-MOSI Dataset"
      ]
    },
    {
      "cell_type": "code",
      "execution_count": null,
      "id": "2e108bf0-d306-4b57-9243-0ffa1abb7af2",
      "metadata": {
        "colab": {
          "base_uri": "https://localhost:8080/",
          "height": 326
        },
        "id": "2e108bf0-d306-4b57-9243-0ffa1abb7af2",
        "outputId": "7ef6cec3-f5f5-48ac-f080-a430022cdf90"
      },
      "outputs": [
        {
          "output_type": "error",
          "ename": "FileNotFoundError",
          "evalue": "[Errno 2] No such file or directory: '/scratch/rrm9598/data/mosi_raw.pkl'",
          "traceback": [
            "\u001b[0;31m---------------------------------------------------------------------------\u001b[0m",
            "\u001b[0;31mFileNotFoundError\u001b[0m                         Traceback (most recent call last)",
            "\u001b[0;32m<ipython-input-14-20aa6f3829c9>\u001b[0m in \u001b[0;36m<cell line: 1>\u001b[0;34m()\u001b[0m\n\u001b[0;32m----> 1\u001b[0;31m traindata, validdata, testdata = get_dataloader(\n\u001b[0m\u001b[1;32m      2\u001b[0m     '/scratch/rrm9598/data/mosi_raw.pkl', robust_test=False, max_pad=True, data_type='mosi', max_seq_len=50)\n",
            "\u001b[0;32m/content/Multimodal-Sentiment-Analysis/notebooks/helpers/data/get_data.py\u001b[0m in \u001b[0;36mget_dataloader\u001b[0;34m(filepath, batch_size, max_seq_len, max_pad, train_shuffle, num_workers, flatten_time_series, task, robust_test, data_type, raw_path, z_norm)\u001b[0m\n\u001b[1;32m    252\u001b[0m         \u001b[0mDataLoader\u001b[0m\u001b[0;34m:\u001b[0m \u001b[0mtuple\u001b[0m \u001b[0mof\u001b[0m \u001b[0mtrain\u001b[0m \u001b[0mdataloader\u001b[0m\u001b[0;34m,\u001b[0m \u001b[0mvalidation\u001b[0m \u001b[0mdataloader\u001b[0m\u001b[0;34m,\u001b[0m \u001b[0mtest\u001b[0m \u001b[0mdataloader\u001b[0m\u001b[0;34m\u001b[0m\u001b[0;34m\u001b[0m\u001b[0m\n\u001b[1;32m    253\u001b[0m     \"\"\"\n\u001b[0;32m--> 254\u001b[0;31m     \u001b[0;32mwith\u001b[0m \u001b[0mopen\u001b[0m\u001b[0;34m(\u001b[0m\u001b[0mfilepath\u001b[0m\u001b[0;34m,\u001b[0m \u001b[0;34m\"rb\"\u001b[0m\u001b[0;34m)\u001b[0m \u001b[0;32mas\u001b[0m \u001b[0mf\u001b[0m\u001b[0;34m:\u001b[0m\u001b[0;34m\u001b[0m\u001b[0;34m\u001b[0m\u001b[0m\n\u001b[0m\u001b[1;32m    255\u001b[0m         \u001b[0malldata\u001b[0m \u001b[0;34m=\u001b[0m \u001b[0mpickle\u001b[0m\u001b[0;34m.\u001b[0m\u001b[0mload\u001b[0m\u001b[0;34m(\u001b[0m\u001b[0mf\u001b[0m\u001b[0;34m)\u001b[0m\u001b[0;34m\u001b[0m\u001b[0;34m\u001b[0m\u001b[0m\n\u001b[1;32m    256\u001b[0m \u001b[0;34m\u001b[0m\u001b[0m\n",
            "\u001b[0;31mFileNotFoundError\u001b[0m: [Errno 2] No such file or directory: '/scratch/rrm9598/data/mosi_raw.pkl'"
          ]
        }
      ],
      "source": [
        "traindata, validdata, testdata = get_dataloader(\n",
        "    '/scratch/rrm9598/data/mosi_raw.pkl', robust_test=False, max_pad=True, data_type='mosi', max_seq_len=50)"
      ]
    },
    {
      "cell_type": "markdown",
      "id": "b47862f4-0afe-4435-b842-d4859cc7e0e5",
      "metadata": {
        "id": "b47862f4-0afe-4435-b842-d4859cc7e0e5"
      },
      "source": [
        "Verifying the train, validation and test data size."
      ]
    },
    {
      "cell_type": "code",
      "execution_count": null,
      "id": "775bf15f-9772-483b-a3b4-dbe97dd7b324",
      "metadata": {
        "id": "775bf15f-9772-483b-a3b4-dbe97dd7b324",
        "outputId": "17925206-9d5f-4cf0-d7fe-e365a2bc240a"
      },
      "outputs": [
        {
          "name": "stdout",
          "output_type": "stream",
          "text": [
            "Train Data Size      : 1283\n",
            "Validation Data Size : 214\n",
            "Test  Data Size      : 686\n",
            "Total Data Size      : 2183\n"
          ]
        }
      ],
      "source": [
        "traindata_size = len(traindata.dataset)\n",
        "validdata_size = len(validdata.dataset)\n",
        "testdata_size = len(testdata.dataset)\n",
        "\n",
        "print(\"Train Data Size      :\", traindata_size)\n",
        "print(\"Validation Data Size :\", validdata_size)\n",
        "print(\"Test  Data Size      :\", testdata_size)\n",
        "\n",
        "totaldata_size = traindata_size + validdata_size + testdata_size\n",
        "print(\"Total Data Size      :\", totaldata_size)"
      ]
    },
    {
      "cell_type": "code",
      "execution_count": null,
      "id": "201cdd51-baf0-4eda-9b58-3359f3a883ad",
      "metadata": {
        "id": "201cdd51-baf0-4eda-9b58-3359f3a883ad"
      },
      "outputs": [],
      "source": [
        "for batch in traindata:\n",
        "    inputs = batch\n",
        "    break"
      ]
    },
    {
      "cell_type": "code",
      "execution_count": null,
      "id": "6c8e71d5-77e2-4fe1-9462-4f455744709b",
      "metadata": {
        "id": "6c8e71d5-77e2-4fe1-9462-4f455744709b",
        "outputId": "dcb503cb-bd94-48fe-f6c6-fda456cfd839"
      },
      "outputs": [
        {
          "name": "stdout",
          "output_type": "stream",
          "text": [
            "Shape of input sample: 4\n",
            "Shape of input item 1: torch.Size([32, 50, 35])\n",
            "Shape of input item 2: torch.Size([32, 50, 74])\n",
            "Shape of input item 3: torch.Size([32, 50, 300])\n",
            "Shape of input item 4: torch.Size([32, 1])\n"
          ]
        }
      ],
      "source": [
        "print(\"Shape of input sample:\", len(inputs))\n",
        "print(\"Shape of input item 1:\", inputs[0].shape)\n",
        "print(\"Shape of input item 2:\", inputs[1].shape)\n",
        "print(\"Shape of input item 3:\", inputs[2].shape)\n",
        "print(\"Shape of input item 4:\", inputs[3].shape)"
      ]
    },
    {
      "cell_type": "code",
      "execution_count": null,
      "id": "48ccc459-4296-46a4-beac-e29b1e47cb4b",
      "metadata": {
        "id": "48ccc459-4296-46a4-beac-e29b1e47cb4b",
        "outputId": "f7db5f56-0a8f-40a5-9e90-99b4b6481973"
      },
      "outputs": [
        {
          "data": {
            "image/png": "[encoded data removed]",
            "text/plain": [
              "<Figure size 640x480 with 1 Axes>"
            ]
          },
          "metadata": {},
          "output_type": "display_data"
        }
      ],
      "source": [
        "plt.imshow(inputs[0][0], cmap='gray')\n",
        "plt.axis('off')\n",
        "plt.show()"
      ]
    },
    {
      "cell_type": "code",
      "execution_count": null,
      "id": "ce8526ae-8bad-4e1b-866c-1131d981f5d8",
      "metadata": {
        "id": "ce8526ae-8bad-4e1b-866c-1131d981f5d8",
        "outputId": "ce4aa2c4-72b2-49cc-a586-ccb32ab85268"
      },
      "outputs": [
        {
          "data": {
            "image/png": "[encoded data removed]",
            "text/plain": [
              "<Figure size 640x480 with 1 Axes>"
            ]
          },
          "metadata": {},
          "output_type": "display_data"
        }
      ],
      "source": [
        "plt.imshow(inputs[1][0], cmap='gray')\n",
        "plt.axis('off')\n",
        "plt.show()"
      ]
    },
    {
      "cell_type": "code",
      "execution_count": null,
      "id": "eafd77ff-13bd-47aa-b8a2-7f198e1321de",
      "metadata": {
        "id": "eafd77ff-13bd-47aa-b8a2-7f198e1321de",
        "outputId": "3c6c38fe-87a8-4744-f61b-29a302f19edc"
      },
      "outputs": [
        {
          "data": {
            "image/png": "[encoded data removed]",
            "text/plain": [
              "<Figure size 640x480 with 1 Axes>"
            ]
          },
          "metadata": {},
          "output_type": "display_data"
        }
      ],
      "source": [
        "plt.imshow(inputs[2][0], cmap='gray')\n",
        "plt.axis('off')\n",
        "plt.show()"
      ]
    },
    {
      "cell_type": "code",
      "execution_count": null,
      "id": "46a4b0e5-8fa4-41a3-a4be-b7cf2241967b",
      "metadata": {
        "id": "46a4b0e5-8fa4-41a3-a4be-b7cf2241967b",
        "outputId": "7d68d9d7-5dd2-4d5f-c85d-e9045b20dc8a"
      },
      "outputs": [
        {
          "data": {
            "text/plain": [
              "tensor([-2.2500])"
            ]
          },
          "execution_count": 13,
          "metadata": {},
          "output_type": "execute_result"
        }
      ],
      "source": [
        "inputs[3][0]"
      ]
    },
    {
      "cell_type": "markdown",
      "id": "88f8061f-30f5-4b81-8911-6c914cd37ed5",
      "metadata": {
        "id": "88f8061f-30f5-4b81-8911-6c914cd37ed5"
      },
      "source": [
        "## Downloading CMU-MOSEI Dataset"
      ]
    },
    {
      "cell_type": "markdown",
      "id": "df9c78ea-aa7b-4681-aaec-a80f7620a1e9",
      "metadata": {
        "id": "df9c78ea-aa7b-4681-aaec-a80f7620a1e9"
      },
      "source": [
        "### mosei_raw.pkl"
      ]
    },
    {
      "cell_type": "code",
      "source": [
        "!gdown --fuzzy \"https://drive.google.com/file/d/1zFOBHijVppTiyteSsi0aTFYPEsda_AOk/view?usp=drive_link\""
      ],
      "metadata": {
        "colab": {
          "base_uri": "https://localhost:8080/"
        },
        "id": "xfbx7Ee6AXWM",
        "outputId": "8f0b00ac-6b0a-459b-852f-97c5b4feae41"
      },
      "id": "xfbx7Ee6AXWM",
      "execution_count": null,
      "outputs": [
        {
          "output_type": "stream",
          "name": "stdout",
          "text": [
            "Downloading...\n",
            "From (original): https://drive.google.com/uc?id=1zFOBHijVppTiyteSsi0aTFYPEsda_AOk\n",
            "From (redirected): https://drive.google.com/uc?id=1zFOBHijVppTiyteSsi0aTFYPEsda_AOk&confirm=t&uuid=5bd01dc8-09ed-4ac9-bc7e-64a6f47dabc8\n",
            "To: /content/Multimodal-Sentiment-Analysis/mosei_raw.pkl\n",
            "100% 9.94G/9.94G [00:57<00:00, 174MB/s]\n"
          ]
        }
      ]
    },
    {
      "cell_type": "markdown",
      "id": "36b52798-3f2b-493e-a29a-dd9bfbba4168",
      "metadata": {
        "id": "36b52798-3f2b-493e-a29a-dd9bfbba4168"
      },
      "source": [
        "### mosei_data.pkl"
      ]
    },
    {
      "cell_type": "code",
      "execution_count": null,
      "id": "e2bcc48b-2765-4605-9204-7cf6d6d00fab",
      "metadata": {
        "colab": {
          "base_uri": "https://localhost:8080/"
        },
        "id": "e2bcc48b-2765-4605-9204-7cf6d6d00fab",
        "outputId": "eb197eef-1397-4487-932d-5fdd1e4e71e8"
      },
      "outputs": [
        {
          "output_type": "stream",
          "name": "stdout",
          "text": [
            "Downloading...\n",
            "From (original): https://drive.google.com/uc?id=180l4pN6XAv8-OAYQ6OrMheFUMwtqUWbz\n",
            "From (redirected): https://drive.google.com/uc?id=180l4pN6XAv8-OAYQ6OrMheFUMwtqUWbz&confirm=t&uuid=1e3ed1ea-34e7-4524-b017-0f84c50fb924\n",
            "To: /content/Multimodal-Sentiment-Analysis/mosei_senti_data.pkl\n",
            "100% 3.73G/3.73G [00:23<00:00, 157MB/s]\n"
          ]
        }
      ],
      "source": [
        "!gdown --fuzzy \"https://drive.google.com/file/d/180l4pN6XAv8-OAYQ6OrMheFUMwtqUWbz/view?usp=share_link\""
      ]
    },
    {
      "cell_type": "markdown",
      "id": "4fb9f2ea-531f-4c4b-ad0d-91a61d2fe879",
      "metadata": {
        "id": "4fb9f2ea-531f-4c4b-ad0d-91a61d2fe879"
      },
      "source": [
        "## Exploring CMU-MOSEI Dataset"
      ]
    },
    {
      "cell_type": "code",
      "execution_count": null,
      "id": "48f36a0d-1e61-46cb-8d2a-0584750b8907",
      "metadata": {
        "id": "48f36a0d-1e61-46cb-8d2a-0584750b8907"
      },
      "outputs": [],
      "source": [
        "traindata, validdata, testdata = get_dataloader('/content/Multimodal-Sentiment-Analysis/mosei_raw.pkl', data_type='mosei')"
      ]
    },
    {
      "cell_type": "code",
      "execution_count": null,
      "id": "f0bd8ec1-589a-45ed-b5bc-54bd56a0ef4d",
      "metadata": {
        "colab": {
          "base_uri": "https://localhost:8080/"
        },
        "id": "f0bd8ec1-589a-45ed-b5bc-54bd56a0ef4d",
        "outputId": "09018249-3b98-4a91-ccc1-1ae8dd80d2d6"
      },
      "outputs": [
        {
          "output_type": "stream",
          "name": "stdout",
          "text": [
            "Train Data Size      : 16327\n",
            "Validation Data Size : 1871\n",
            "Test  Data Size      : 4662\n",
            "Total Data Size      : 22860\n"
          ]
        }
      ],
      "source": [
        "traindata_size = len(traindata.dataset)\n",
        "validdata_size = len(validdata.dataset)\n",
        "testdata_size = len(testdata.dataset)\n",
        "\n",
        "print(\"Train Data Size      :\", traindata_size)\n",
        "print(\"Validation Data Size :\", validdata_size)\n",
        "print(\"Test  Data Size      :\", testdata_size)\n",
        "\n",
        "totaldata_size = traindata_size + validdata_size + testdata_size\n",
        "print(\"Total Data Size      :\", totaldata_size)"
      ]
    },
    {
      "cell_type": "code",
      "execution_count": null,
      "id": "328fea9a-25ff-4f3b-b1ee-891756efcf4c",
      "metadata": {
        "id": "328fea9a-25ff-4f3b-b1ee-891756efcf4c"
      },
      "outputs": [],
      "source": [
        "for batch in traindata:\n",
        "    inputs = batch\n",
        "    break"
      ]
    },
    {
      "cell_type": "code",
      "execution_count": null,
      "id": "97405fb0-5340-4f04-826d-f238658d7b53",
      "metadata": {
        "colab": {
          "base_uri": "https://localhost:8080/"
        },
        "id": "97405fb0-5340-4f04-826d-f238658d7b53",
        "outputId": "2302f6c6-f1fd-4e2d-b0d2-cbdd1c49b9bd"
      },
      "outputs": [
        {
          "output_type": "stream",
          "name": "stdout",
          "text": [
            "Shape of input sample: 4\n",
            "Shape of input item 1: 3\n",
            "\tShape of input item 1, item 1: torch.Size([32, 50, 713])\n",
            "\tShape of input item 1, item 2: torch.Size([32, 50, 74])\n",
            "\tShape of input item 1, item 3: torch.Size([32, 50, 300])\n",
            "Shape of input item 2: 3\n",
            "\tShape of input item 2, item 1: torch.Size([32])\n",
            "\tShape of input item 2, item 2: torch.Size([32])\n",
            "\tShape of input item 2, item 3: torch.Size([32])\n",
            "Shape of input item 3: torch.Size([32, 1])\n",
            "Shape of input item 4: torch.Size([32, 1])\n"
          ]
        }
      ],
      "source": [
        "print(\"Shape of input sample:\", len(inputs))\n",
        "print(\"Shape of input item 1:\", len(inputs[0]))\n",
        "print(\"\\tShape of input item 1, item 1:\", inputs[0][0].shape)\n",
        "print(\"\\tShape of input item 1, item 2:\", inputs[0][1].shape)\n",
        "print(\"\\tShape of input item 1, item 3:\", inputs[0][2].shape)\n",
        "print(\"Shape of input item 2:\", len(inputs[1]))\n",
        "print(\"\\tShape of input item 2, item 1:\", inputs[1][0].shape)\n",
        "print(\"\\tShape of input item 2, item 2:\", inputs[1][1].shape)\n",
        "print(\"\\tShape of input item 2, item 3:\", inputs[1][2].shape)\n",
        "print(\"Shape of input item 3:\", inputs[2].shape)\n",
        "print(\"Shape of input item 4:\", inputs[3].shape)"
      ]
    },
    {
      "cell_type": "code",
      "execution_count": null,
      "id": "ee2327ac-43ed-40d0-9318-bc1f2e050dbf",
      "metadata": {
        "colab": {
          "base_uri": "https://localhost:8080/",
          "height": 71
        },
        "id": "ee2327ac-43ed-40d0-9318-bc1f2e050dbf",
        "outputId": "9ba69989-3b8e-4705-86ba-0e7552060a35"
      },
      "outputs": [
        {
          "output_type": "display_data",
          "data": {
            "text/plain": [
              "<Figure size 640x480 with 1 Axes>"
            ],
            "image/png": "[encoded data removed]"
          },
          "metadata": {}
        }
      ],
      "source": [
        "plt.imshow(inputs[0][0][0], cmap='gray')\n",
        "plt.axis('off')\n",
        "plt.show()"
      ]
    },
    {
      "cell_type": "code",
      "execution_count": null,
      "id": "531a694f-e0d2-48a7-92d6-fbd0e3911171",
      "metadata": {
        "colab": {
          "base_uri": "https://localhost:8080/",
          "height": 372
        },
        "id": "531a694f-e0d2-48a7-92d6-fbd0e3911171",
        "outputId": "1b3f71e0-10c2-44e4-bc85-ff2927496253"
      },
      "outputs": [
        {
          "output_type": "display_data",
          "data": {
            "text/plain": [
              "<Figure size 640x480 with 1 Axes>"
            ],
            "image/png": "[encoded data removed]"
          },
          "metadata": {}
        }
      ],
      "source": [
        "plt.imshow(inputs[0][1][0], cmap='gray')\n",
        "plt.axis('off')\n",
        "plt.show()"
      ]
    },
    {
      "cell_type": "code",
      "execution_count": null,
      "id": "314aabce-5df6-4088-b16b-0aeb46f340f0",
      "metadata": {
        "colab": {
          "base_uri": "https://localhost:8080/",
          "height": 119
        },
        "id": "314aabce-5df6-4088-b16b-0aeb46f340f0",
        "outputId": "0964c71c-6a4c-48a0-b401-b608b17513bc"
      },
      "outputs": [
        {
          "output_type": "display_data",
          "data": {
            "text/plain": [
              "<Figure size 640x480 with 1 Axes>"
            ],
            "image/png": "[encoded data removed]"
          },
          "metadata": {}
        }
      ],
      "source": [
        "plt.imshow(inputs[0][2][0], cmap='gray')\n",
        "plt.axis('off')\n",
        "plt.show()"
      ]
    },
    {
      "cell_type": "code",
      "execution_count": null,
      "id": "f289b482-fcdc-494e-baea-77b8d2b0fe5b",
      "metadata": {
        "colab": {
          "base_uri": "https://localhost:8080/"
        },
        "id": "f289b482-fcdc-494e-baea-77b8d2b0fe5b",
        "outputId": "0aa5662b-1719-4034-bb72-e431091e261d"
      },
      "outputs": [
        {
          "output_type": "execute_result",
          "data": {
            "text/plain": [
              "tensor([14, 10, 23, 18, 15, 34, 50, 15, 22, 18, 18,  8, 13, 19, 42, 16, 25, 16,\n",
              "        26, 34, 11, 39, 24, 12,  4, 42, 11, 50, 21, 11, 10,  7])"
            ]
          },
          "metadata": {},
          "execution_count": 20
        }
      ],
      "source": [
        "inputs[1][0]"
      ]
    },
    {
      "cell_type": "code",
      "execution_count": null,
      "id": "22f81adf-baaa-4951-aafa-1769fbc70bf1",
      "metadata": {
        "colab": {
          "base_uri": "https://localhost:8080/"
        },
        "id": "22f81adf-baaa-4951-aafa-1769fbc70bf1",
        "outputId": "ee22e4b8-84be-43b7-b25b-7470ac88467c"
      },
      "outputs": [
        {
          "output_type": "execute_result",
          "data": {
            "text/plain": [
              "tensor([14, 10, 23, 18, 15, 34, 50, 15, 22, 18, 18,  8, 13, 19, 42, 16, 25, 16,\n",
              "        26, 34, 11, 39, 24, 12,  4, 42, 11, 50, 21, 11, 10,  7])"
            ]
          },
          "metadata": {},
          "execution_count": 21
        }
      ],
      "source": [
        "inputs[1][1]"
      ]
    },
    {
      "cell_type": "code",
      "execution_count": null,
      "id": "f38d5ca6-e8ba-43ff-8034-17a798195118",
      "metadata": {
        "colab": {
          "base_uri": "https://localhost:8080/"
        },
        "id": "f38d5ca6-e8ba-43ff-8034-17a798195118",
        "outputId": "410d955c-c2d3-4005-82f1-4ba703ba7731"
      },
      "outputs": [
        {
          "output_type": "execute_result",
          "data": {
            "text/plain": [
              "tensor([14, 10, 23, 18, 15, 34, 50, 15, 22, 18, 18,  8, 13, 19, 42, 16, 25, 16,\n",
              "        26, 34, 11, 39, 24, 12,  4, 42, 11, 50, 21, 11, 10,  7])"
            ]
          },
          "metadata": {},
          "execution_count": 22
        }
      ],
      "source": [
        "inputs[1][2]"
      ]
    },
    {
      "cell_type": "code",
      "execution_count": null,
      "id": "e0c869fd-0018-4297-869a-cd9aa0774ec7",
      "metadata": {
        "colab": {
          "base_uri": "https://localhost:8080/"
        },
        "id": "e0c869fd-0018-4297-869a-cd9aa0774ec7",
        "outputId": "c6c6353c-592e-4773-cf18-e62248509100"
      },
      "outputs": [
        {
          "output_type": "execute_result",
          "data": {
            "text/plain": [
              "tensor([[ 8101],\n",
              "        [10560],\n",
              "        [13838],\n",
              "        [14129],\n",
              "        [12262],\n",
              "        [ 6719],\n",
              "        [ 5305],\n",
              "        [ 5763],\n",
              "        [ 9473],\n",
              "        [   36],\n",
              "        [15953],\n",
              "        [ 5893],\n",
              "        [12719],\n",
              "        [12937],\n",
              "        [ 1670],\n",
              "        [ 8917],\n",
              "        [14344],\n",
              "        [ 5688],\n",
              "        [ 2856],\n",
              "        [12991],\n",
              "        [10423],\n",
              "        [ 9763],\n",
              "        [ 5830],\n",
              "        [12284],\n",
              "        [ 5473],\n",
              "        [14090],\n",
              "        [ 5263],\n",
              "        [13618],\n",
              "        [ 1149],\n",
              "        [ 7762],\n",
              "        [ 1803],\n",
              "        [10682]])"
            ]
          },
          "metadata": {},
          "execution_count": 23
        }
      ],
      "source": [
        "inputs[2]"
      ]
    },
    {
      "cell_type": "code",
      "execution_count": null,
      "id": "c7fb52f8-70ff-49a2-aa07-c4cdb79af2c3",
      "metadata": {
        "colab": {
          "base_uri": "https://localhost:8080/"
        },
        "id": "c7fb52f8-70ff-49a2-aa07-c4cdb79af2c3",
        "outputId": "536c7c8c-7c93-4868-8172-8fc3f3e3fcbc"
      },
      "outputs": [
        {
          "output_type": "execute_result",
          "data": {
            "text/plain": [
              "tensor([[ 0.0000],\n",
              "        [ 1.6667],\n",
              "        [ 1.3333],\n",
              "        [ 0.0000],\n",
              "        [-0.6667],\n",
              "        [-0.6667],\n",
              "        [-1.0000],\n",
              "        [ 0.0000],\n",
              "        [ 0.3333],\n",
              "        [ 0.6667],\n",
              "        [ 1.0000],\n",
              "        [ 0.6667],\n",
              "        [ 0.0000],\n",
              "        [ 0.0000],\n",
              "        [ 2.3333],\n",
              "        [-0.3333],\n",
              "        [ 0.0000],\n",
              "        [ 0.6667],\n",
              "        [-1.6667],\n",
              "        [ 1.3333],\n",
              "        [ 1.0000],\n",
              "        [ 0.3333],\n",
              "        [-1.6667],\n",
              "        [ 0.0000],\n",
              "        [ 0.0000],\n",
              "        [ 0.0000],\n",
              "        [ 0.6667],\n",
              "        [ 1.6667],\n",
              "        [ 0.0000],\n",
              "        [-1.6667],\n",
              "        [-1.0000],\n",
              "        [ 0.3333]])"
            ]
          },
          "metadata": {},
          "execution_count": 24
        }
      ],
      "source": [
        "inputs[3]"
      ]
    },
    {
      "cell_type": "code",
      "execution_count": null,
      "id": "a06a76e0-20b6-48c8-80f6-63cb686f6036",
      "metadata": {
        "id": "a06a76e0-20b6-48c8-80f6-63cb686f6036"
      },
      "outputs": [],
      "source": []
    }
  ],
  "metadata": {
    "kernelspec": {
      "display_name": "Python 3",
      "name": "python3"
    },
    "language_info": {
      "codemirror_mode": {
        "name": "ipython",
        "version": 3
      },
      "file_extension": ".py",
      "mimetype": "text/x-python",
      "name": "python",
      "nbconvert_exporter": "python",
      "pygments_lexer": "ipython3",
      "version": "3.11.7"
    },
    "colab": {
      "provenance": [],
      "collapsed_sections": [
        "f1fcebf2-62d4-4d85-ac26-f0c8484ad3b4",
        "20585a23-8381-4793-b7e2-85412199e89b"
      ],
      "gpuType": "T4"
    },
    "accelerator": "GPU"
  },
  "nbformat": 4,
  "nbformat_minor": 5
}