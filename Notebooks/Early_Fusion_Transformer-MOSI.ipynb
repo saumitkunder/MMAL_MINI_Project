{
 "cells": [
  {
   "cell_type": "markdown",
   "id": "067cb8f5-a1c8-40d0-8524-0b28f8e4b586",
   "metadata": {},
   "source": [
    "# Early Fusion Transformer Model - CMU-MOSI Dataset"
   ]
  },
  {
   "cell_type": "markdown",
   "id": "dc5714ca-83db-40ac-aef0-ee05dfddd1a3",
   "metadata": {},
   "source": [
    "In this notebook, we implement the Early Fusion Transformer Model, and test it on CMU-MOSI dataset."
   ]
  },
  {
   "cell_type": "markdown",
   "id": "fc015c8e-f315-40d9-823c-6fc3626a4510",
   "metadata": {},
   "source": [
    "## Importing Libraries"
   ]
  },
  {
   "cell_type": "code",
   "execution_count": 1,
   "id": "d4a4adae-a451-493d-9ddb-0efb28537923",
   "metadata": {},
   "outputs": [],
   "source": [
    "import os\n",
    "import sys\n",
    "import torch\n",
    "\n",
    "import numpy as np\n",
    "import matplotlib.pyplot as plt\n",
    "\n",
    "sys.path.append(os.getcwd())\n",
    "sys.path.append(os.path.dirname(os.path.dirname(os.getcwd())))"
   ]
  },
  {
   "cell_type": "markdown",
   "id": "52a35966-1fba-4107-a1fc-1137f26224bf",
   "metadata": {},
   "source": [
    "## Importing Helper Functions"
   ]
  },
  {
   "cell_type": "code",
   "execution_count": 2,
   "id": "b8d45f84-62c1-4315-9010-45d345dda90d",
   "metadata": {},
   "outputs": [],
   "source": [
    "from helpers.data.get_data import get_dataloader\n",
    "from helpers.unimodals.common_models import Transformer, MLP, Sequential, Identity\n",
    "from helpers.training.supervised_learning import train, test\n",
    "from helpers.fusions.common_fusions import ConcatEarly\n",
    "from helpers.utils.common_utils import get_default_device, save_results"
   ]
  },
  {
   "cell_type": "markdown",
   "id": "8dc9b148-2e2f-4cfa-a7d4-d53b639f5b18",
   "metadata": {},
   "source": [
    "## Loading the Dataset"
   ]
  },
  {
   "cell_type": "code",
   "execution_count": 3,
   "id": "7f193c63-0bfb-4248-a2a8-e81ca20a7c14",
   "metadata": {},
   "outputs": [],
   "source": [
    "traindata, validdata, testdata = get_dataloader(\n",
    "    '/scratch/rrm9598/data/mosi_data.pkl', robust_test=False)"
   ]
  },
  {
   "cell_type": "code",
   "execution_count": 4,
   "id": "75b021aa-09ec-4739-92d3-028a0ed54287",
   "metadata": {},
   "outputs": [
    {
     "name": "stdout",
     "output_type": "stream",
     "text": [
      "cuda\n"
     ]
    }
   ],
   "source": [
    "device = get_default_device()\n",
    "print(device)"
   ]
  },
  {
   "cell_type": "markdown",
   "id": "a1b80fea-4d34-4db8-a1ed-9ca4e853bbd4",
   "metadata": {},
   "source": [
    "## Model Architecture"
   ]
  },
  {
   "cell_type": "code",
   "execution_count": 5,
   "id": "59286eb3-949a-4afb-b4f4-0b115b885f92",
   "metadata": {},
   "outputs": [
    {
     "name": "stderr",
     "output_type": "stream",
     "text": [
      "/home/rrm9598/.local/lib/python3.11/site-packages/torch/nn/modules/transformer.py:286: UserWarning: enable_nested_tensor is True, but self.use_nested_tensor is False because encoder_layer.self_attn.batch_first was not True(use batch_first for better inference performance)\n",
      "  warnings.warn(f\"enable_nested_tensor is True, but self.use_nested_tensor is False because {why_not_sparsity_fast_path}\")\n"
     ]
    }
   ],
   "source": [
    "encoders = [Identity().to(device), Identity().to(device), Identity().to(device)]\n",
    "head = Sequential(Transformer(325, 300).to(device), MLP(300, 128, 1)).to(device)"
   ]
  },
  {
   "cell_type": "code",
   "execution_count": 6,
   "id": "63408731-2f89-4f01-b1d4-c169817fd8a8",
   "metadata": {},
   "outputs": [],
   "source": [
    "fusion = ConcatEarly().to(device)"
   ]
  },
  {
   "cell_type": "markdown",
   "id": "4575e9d5-572c-4810-ba00-030f8ded6f05",
   "metadata": {},
   "source": [
    "## Training"
   ]
  },
  {
   "cell_type": "code",
   "execution_count": 7,
   "id": "f0b5dfe9-6677-4494-a013-7343ed43b731",
   "metadata": {},
   "outputs": [],
   "source": [
    "FILE_NAME = 'mosi_eft_r0'"
   ]
  },
  {
   "cell_type": "code",
   "execution_count": 8,
   "id": "d9a645da-32a4-419a-9d64-2f499da509ac",
   "metadata": {},
   "outputs": [
    {
     "name": "stdout",
     "output_type": "stream",
     "text": [
      "Epoch [1/100]\n",
      "Train Loss: 1.2300\n",
      "Valid Loss: 1.3583\n",
      "Saving Best\n",
      "\n",
      "Epoch [2/100]\n",
      "Train Loss: 1.0098\n",
      "Valid Loss: 1.0949\n",
      "Saving Best\n",
      "\n",
      "Epoch [3/100]\n",
      "Train Loss: 1.0093\n",
      "Valid Loss: 1.1102\n",
      "\n",
      "Epoch [4/100]\n",
      "Train Loss: 0.8613\n",
      "Valid Loss: 1.1100\n",
      "\n",
      "Epoch [5/100]\n",
      "Train Loss: 0.8541\n",
      "Valid Loss: 1.1697\n",
      "\n",
      "Epoch [6/100]\n",
      "Train Loss: 0.8152\n",
      "Valid Loss: 0.9499\n",
      "Saving Best\n",
      "\n",
      "Epoch [7/100]\n",
      "Train Loss: 0.6998\n",
      "Valid Loss: 0.9295\n",
      "Saving Best\n",
      "\n",
      "Epoch [8/100]\n",
      "Train Loss: 0.6564\n",
      "Valid Loss: 0.9828\n",
      "\n",
      "Epoch [9/100]\n",
      "Train Loss: 0.6307\n",
      "Valid Loss: 0.9448\n",
      "\n",
      "Epoch [10/100]\n",
      "Train Loss: 0.6039\n",
      "Valid Loss: 0.8958\n",
      "Saving Best\n",
      "\n",
      "Epoch [11/100]\n",
      "Train Loss: 0.5838\n",
      "Valid Loss: 0.9326\n",
      "\n",
      "Epoch [12/100]\n",
      "Train Loss: 0.5363\n",
      "Valid Loss: 0.9251\n",
      "\n",
      "Epoch [13/100]\n",
      "Train Loss: 0.5184\n",
      "Valid Loss: 0.9042\n",
      "\n",
      "Epoch [14/100]\n",
      "Train Loss: 0.4964\n",
      "Valid Loss: 0.9400\n",
      "\n",
      "Epoch [15/100]\n",
      "Train Loss: 0.4558\n",
      "Valid Loss: 0.9306\n",
      "\n",
      "Epoch [16/100]\n",
      "Train Loss: 0.4440\n",
      "Valid Loss: 0.9048\n",
      "\n",
      "Epoch [17/100]\n",
      "Train Loss: 0.3945\n",
      "Valid Loss: 0.9221\n",
      "\n",
      "Epoch [18/100]\n",
      "Train Loss: 0.3750\n",
      "Valid Loss: 0.9108\n",
      "Training Time: 21s959ms\n",
      "Training Peak Mem: 1168.4921875\n",
      "Training Params: 8103897\n"
     ]
    }
   ],
   "source": [
    "train_losses, valid_losses = train(\n",
    "    encoders, fusion, head, traindata, validdata, 100, task=\"regression\", optimtype=torch.optim.AdamW,\n",
    "    is_packed=True, early_stop=True, lr=1e-4, \n",
    "    save=f'/scratch/rrm9598/Multimodal-Sentiment-Analysis/models/{FILE_NAME}.pt', weight_decay=0.01, objective=torch.nn.L1Loss()\n",
    ")"
   ]
  },
  {
   "cell_type": "code",
   "execution_count": 9,
   "id": "b0e7c33a-a68d-4292-a2b2-14e8a2e53500",
   "metadata": {},
   "outputs": [
    {
     "data": {
      "text/plain": [
       "Text(0.5, 1.0, 'Loss vs. No. of epochs')"
      ]
     },
     "execution_count": 9,
     "metadata": {},
     "output_type": "execute_result"
    },
    {
     "data": {
      "image/png": "[encoded data removed]",
      "text/plain": [
       "<Figure size 640x480 with 1 Axes>"
      ]
     },
     "metadata": {},
     "output_type": "display_data"
    }
   ],
   "source": [
    "plt.plot(train_losses, label='Train Loss')\n",
    "plt.plot(valid_losses, label='Validation Loss')\n",
    "plt.xlabel('Epochs')\n",
    "plt.ylabel('Loss')\n",
    "plt.legend()\n",
    "plt.grid(True)\n",
    "plt.title('Loss vs. No. of epochs')"
   ]
  },
  {
   "cell_type": "code",
   "execution_count": 10,
   "id": "8bbd60df-8764-4fcd-a545-90860e5f8a2c",
   "metadata": {},
   "outputs": [],
   "source": [
    "save_results(train_losses, valid_losses, f'/scratch/rrm9598/Multimodal-Sentiment-Analysis/results/{FILE_NAME}.pkl')"
   ]
  },
  {
   "cell_type": "markdown",
   "id": "a2a0ca4a-2c05-4ba2-a6aa-1db0e341598b",
   "metadata": {},
   "source": [
    "## Testing"
   ]
  },
  {
   "cell_type": "code",
   "execution_count": 12,
   "id": "d4352442-0d78-4195-bd04-2332af36a7f7",
   "metadata": {},
   "outputs": [
    {
     "name": "stdout",
     "output_type": "stream",
     "text": [
      "Recall: 77.7439% | Total Accuracy: 76.9679%\n",
      "Inference Time: 434ms\n",
      "Inference Params: 8103897\n"
     ]
    }
   ],
   "source": [
    "model = torch.load(f'/scratch/rrm9598/Multimodal-Sentiment-Analysis/models/{FILE_NAME}.pt').to(device)\n",
    "\n",
    "test(model, testdata, 'affect', is_packed=True,\n",
    "     criterion=torch.nn.L1Loss(), task=\"posneg-classification\", no_robust=True)"
   ]
  },
  {
   "cell_type": "code",
   "execution_count": null,
   "id": "dd7d4419-cc6b-4022-9b93-49772c55a675",
   "metadata": {},
   "outputs": [],
   "source": []
  }
 ],
 "metadata": {
  "kernelspec": {
   "display_name": "Python 3 (ipykernel)",
   "language": "python",
   "name": "python3"
  },
  "language_info": {
   "codemirror_mode": {
    "name": "ipython",
    "version": 3
   },
   "file_extension": ".py",
   "mimetype": "text/x-python",
   "name": "python",
   "nbconvert_exporter": "python",
   "pygments_lexer": "ipython3",
   "version": "3.11.7"
  }
 },
 "nbformat": 4,
 "nbformat_minor": 5
}
