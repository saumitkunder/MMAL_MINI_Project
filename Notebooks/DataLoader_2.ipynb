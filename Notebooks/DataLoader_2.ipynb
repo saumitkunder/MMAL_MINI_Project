{
  "cells": [
    {
      "cell_type": "code",
      "execution_count": 1,
      "id": "83be7887",
      "metadata": {
        "colab": {
          "base_uri": "https://localhost:8080/"
        },
        "id": "83be7887",
        "outputId": "9c52a987-2860-48ee-91da-2c9c1c5ea91b"
      },
      "outputs": [
        {
          "output_type": "stream",
          "name": "stdout",
          "text": [
            "Cloning into 'MMAL_MINI_Project'...\n",
            "remote: Enumerating objects: 47, done.\u001b[K\n",
            "remote: Counting objects: 100% (47/47), done.\u001b[K\n",
            "remote: Compressing objects: 100% (37/37), done.\u001b[K\n",
            "remote: Total 47 (delta 5), reused 0 (delta 0), pack-reused 0 (from 0)\u001b[K\n",
            "Receiving objects: 100% (47/47), 729.05 KiB | 6.28 MiB/s, done.\n",
            "Resolving deltas: 100% (5/5), done.\n",
            "/content/MMAL_MINI_Project\n"
          ]
        }
      ],
      "source": [
        "# Clone the GitHub repository\n",
        "# !git clone https://github.com/rugvedmhatre/Multimodal-Sentiment-Analysis.git\n",
        "# %cd Multimodal-Sentiment-Analysis\n",
        "!git clone https://github.com/saumitkunder/MMAL_MINI_Project.git\n",
        "%cd MMAL_MINI_Project"
      ]
    },
    {
      "cell_type": "code",
      "execution_count": 2,
      "id": "88b3bc27",
      "metadata": {
        "id": "88b3bc27"
      },
      "outputs": [],
      "source": [
        "\n",
        "# Add project directory to Python path\n",
        "# import sys\n",
        "# sys.path.append('/content/Multimodal-Sentiment-Analysis')\n",
        "import sys\n",
        "sys.path.append('/content/MMAL_MINI_Project')\n"
      ]
    },
    {
      "cell_type": "code",
      "source": [
        "!pip install torch==1.12.1 torchtext==0.13.1\n"
      ],
      "metadata": {
        "colab": {
          "base_uri": "https://localhost:8080/"
        },
        "id": "5MnfKKyV6gY4",
        "outputId": "a9771d92-f624-4de2-a286-2a535216c257"
      },
      "id": "5MnfKKyV6gY4",
      "execution_count": 3,
      "outputs": [
        {
          "output_type": "stream",
          "name": "stdout",
          "text": [
            "Collecting torch==1.12.1\n",
            "  Downloading torch-1.12.1-cp310-cp310-manylinux1_x86_64.whl.metadata (22 kB)\n",
            "Collecting torchtext==0.13.1\n",
            "  Downloading torchtext-0.13.1-cp310-cp310-manylinux1_x86_64.whl.metadata (6.9 kB)\n",
            "Requirement already satisfied: typing-extensions in /usr/local/lib/python3.10/dist-packages (from torch==1.12.1) (4.12.2)\n",
            "Requirement already satisfied: tqdm in /usr/local/lib/python3.10/dist-packages (from torchtext==0.13.1) (4.66.6)\n",
            "Requirement already satisfied: requests in /usr/local/lib/python3.10/dist-packages (from torchtext==0.13.1) (2.32.3)\n",
            "Requirement already satisfied: numpy in /usr/local/lib/python3.10/dist-packages (from torchtext==0.13.1) (1.26.4)\n",
            "Requirement already satisfied: charset-normalizer<4,>=2 in /usr/local/lib/python3.10/dist-packages (from requests->torchtext==0.13.1) (3.4.0)\n",
            "Requirement already satisfied: idna<4,>=2.5 in /usr/local/lib/python3.10/dist-packages (from requests->torchtext==0.13.1) (3.10)\n",
            "Requirement already satisfied: urllib3<3,>=1.21.1 in /usr/local/lib/python3.10/dist-packages (from requests->torchtext==0.13.1) (2.2.3)\n",
            "Requirement already satisfied: certifi>=2017.4.17 in /usr/local/lib/python3.10/dist-packages (from requests->torchtext==0.13.1) (2024.8.30)\n",
            "Downloading torch-1.12.1-cp310-cp310-manylinux1_x86_64.whl (776.3 MB)\n",
            "\u001b[2K   \u001b[90m━━━━━━━━━━━━━━━━━━━━━━━━━━━━━━━━━━━━━━━━\u001b[0m \u001b[32m776.3/776.3 MB\u001b[0m \u001b[31m2.3 MB/s\u001b[0m eta \u001b[36m0:00:00\u001b[0m\n",
            "\u001b[?25hDownloading torchtext-0.13.1-cp310-cp310-manylinux1_x86_64.whl (1.9 MB)\n",
            "\u001b[2K   \u001b[90m━━━━━━━━━━━━━━━━━━━━━━━━━━━━━━━━━━━━━━━━\u001b[0m \u001b[32m1.9/1.9 MB\u001b[0m \u001b[31m52.7 MB/s\u001b[0m eta \u001b[36m0:00:00\u001b[0m\n",
            "\u001b[?25hInstalling collected packages: torch, torchtext\n",
            "  Attempting uninstall: torch\n",
            "    Found existing installation: torch 2.5.0+cu121\n",
            "    Uninstalling torch-2.5.0+cu121:\n",
            "      Successfully uninstalled torch-2.5.0+cu121\n",
            "\u001b[31mERROR: pip's dependency resolver does not currently take into account all the packages that are installed. This behaviour is the source of the following dependency conflicts.\n",
            "peft 0.13.2 requires torch>=1.13.0, but you have torch 1.12.1 which is incompatible.\n",
            "torchaudio 2.5.0+cu121 requires torch==2.5.0, but you have torch 1.12.1 which is incompatible.\n",
            "torchvision 0.20.0+cu121 requires torch==2.5.0, but you have torch 1.12.1 which is incompatible.\u001b[0m\u001b[31m\n",
            "\u001b[0mSuccessfully installed torch-1.12.1 torchtext-0.13.1\n"
          ]
        }
      ]
    },
    {
      "cell_type": "code",
      "execution_count": 4,
      "id": "c340a340",
      "metadata": {
        "colab": {
          "base_uri": "https://localhost:8080/"
        },
        "id": "c340a340",
        "outputId": "eeb6d6de-830b-424f-9ea0-8fdd7ff51e41"
      },
      "outputs": [
        {
          "output_type": "stream",
          "name": "stdout",
          "text": [
            "Requirement already satisfied: numpy in /usr/local/lib/python3.10/dist-packages (1.26.4)\n",
            "Requirement already satisfied: matplotlib in /usr/local/lib/python3.10/dist-packages (3.8.0)\n",
            "Requirement already satisfied: gdown in /usr/local/lib/python3.10/dist-packages (5.2.0)\n",
            "Requirement already satisfied: contourpy>=1.0.1 in /usr/local/lib/python3.10/dist-packages (from matplotlib) (1.3.0)\n",
            "Requirement already satisfied: cycler>=0.10 in /usr/local/lib/python3.10/dist-packages (from matplotlib) (0.12.1)\n",
            "Requirement already satisfied: fonttools>=4.22.0 in /usr/local/lib/python3.10/dist-packages (from matplotlib) (4.54.1)\n",
            "Requirement already satisfied: kiwisolver>=1.0.1 in /usr/local/lib/python3.10/dist-packages (from matplotlib) (1.4.7)\n",
            "Requirement already satisfied: packaging>=20.0 in /usr/local/lib/python3.10/dist-packages (from matplotlib) (24.1)\n",
            "Requirement already satisfied: pillow>=6.2.0 in /usr/local/lib/python3.10/dist-packages (from matplotlib) (10.4.0)\n",
            "Requirement already satisfied: pyparsing>=2.3.1 in /usr/local/lib/python3.10/dist-packages (from matplotlib) (3.2.0)\n",
            "Requirement already satisfied: python-dateutil>=2.7 in /usr/local/lib/python3.10/dist-packages (from matplotlib) (2.8.2)\n",
            "Requirement already satisfied: beautifulsoup4 in /usr/local/lib/python3.10/dist-packages (from gdown) (4.12.3)\n",
            "Requirement already satisfied: filelock in /usr/local/lib/python3.10/dist-packages (from gdown) (3.16.1)\n",
            "Requirement already satisfied: requests[socks] in /usr/local/lib/python3.10/dist-packages (from gdown) (2.32.3)\n",
            "Requirement already satisfied: tqdm in /usr/local/lib/python3.10/dist-packages (from gdown) (4.66.6)\n",
            "Requirement already satisfied: six>=1.5 in /usr/local/lib/python3.10/dist-packages (from python-dateutil>=2.7->matplotlib) (1.16.0)\n",
            "Requirement already satisfied: soupsieve>1.2 in /usr/local/lib/python3.10/dist-packages (from beautifulsoup4->gdown) (2.6)\n",
            "Requirement already satisfied: charset-normalizer<4,>=2 in /usr/local/lib/python3.10/dist-packages (from requests[socks]->gdown) (3.4.0)\n",
            "Requirement already satisfied: idna<4,>=2.5 in /usr/local/lib/python3.10/dist-packages (from requests[socks]->gdown) (3.10)\n",
            "Requirement already satisfied: urllib3<3,>=1.21.1 in /usr/local/lib/python3.10/dist-packages (from requests[socks]->gdown) (2.2.3)\n",
            "Requirement already satisfied: certifi>=2017.4.17 in /usr/local/lib/python3.10/dist-packages (from requests[socks]->gdown) (2024.8.30)\n",
            "Requirement already satisfied: PySocks!=1.5.7,>=1.5.6 in /usr/local/lib/python3.10/dist-packages (from requests[socks]->gdown) (1.7.1)\n"
          ]
        }
      ],
      "source": [
        "\n",
        "# Install required libraries\n",
        "!pip install numpy matplotlib gdown\n",
        "import importlib\n"
      ]
    },
    {
      "cell_type": "code",
      "source": [
        "!find /content/MMAL_MINI_Project -name \"get_data.py\"\n"
      ],
      "metadata": {
        "colab": {
          "base_uri": "https://localhost:8080/"
        },
        "id": "PGgCIm--6GgF",
        "outputId": "57a600f8-5468-4e2c-a4e1-5a0739afadae"
      },
      "id": "PGgCIm--6GgF",
      "execution_count": 6,
      "outputs": [
        {
          "output_type": "stream",
          "name": "stdout",
          "text": [
            "/content/MMAL_MINI_Project/helpers/data/get_data.py\n"
          ]
        }
      ]
    },
    {
      "cell_type": "code",
      "source": [
        "!ls /content/MMAL_MINI_Project/helpers\n"
      ],
      "metadata": {
        "colab": {
          "base_uri": "https://localhost:8080/"
        },
        "id": "9qjOcFMu7boU",
        "outputId": "3a4e3ec7-988e-49a7-fcce-58a33639dcb7"
      },
      "id": "9qjOcFMu7boU",
      "execution_count": 7,
      "outputs": [
        {
          "output_type": "stream",
          "name": "stdout",
          "text": [
            "data  fusions  training  unimodals  utils\n"
          ]
        }
      ]
    },
    {
      "cell_type": "code",
      "source": [
        "import sys\n",
        "sys.path.append('/content/MMAL_MINI_Project/notebooks')\n"
      ],
      "metadata": {
        "id": "sZ7p7h5r7fH7"
      },
      "id": "sZ7p7h5r7fH7",
      "execution_count": 8,
      "outputs": []
    },
    {
      "cell_type": "code",
      "source": [
        "from helpers.data.get_data import get_dataloader\n"
      ],
      "metadata": {
        "id": "UWHEk1ST6VUG"
      },
      "id": "UWHEk1ST6VUG",
      "execution_count": null,
      "outputs": []
    },
    {
      "cell_type": "markdown",
      "id": "ea2bdf71-2737-450e-8ffe-3778b37ab227",
      "metadata": {
        "id": "ea2bdf71-2737-450e-8ffe-3778b37ab227"
      },
      "source": [
        "# Datasets"
      ]
    },
    {
      "cell_type": "markdown",
      "id": "8515def1-457a-473d-a174-fb93926798f7",
      "metadata": {
        "id": "8515def1-457a-473d-a174-fb93926798f7"
      },
      "source": [
        "In this notebook, we get the CMU-MOSI and CMU-MOSEI dataset from CMU's Google Drive Directory. This directory has the the pickle files that we require for our project."
      ]
    },
    {
      "cell_type": "markdown",
      "id": "c2493849-e058-45b2-b17e-7e346b47bcd7",
      "metadata": {
        "id": "c2493849-e058-45b2-b17e-7e346b47bcd7"
      },
      "source": [
        "## Importing Libraries"
      ]
    },
    {
      "cell_type": "code",
      "execution_count": null,
      "id": "d341805b-5f78-4805-b991-69d532c8f7a4",
      "metadata": {
        "id": "d341805b-5f78-4805-b991-69d532c8f7a4"
      },
      "outputs": [],
      "source": [
        "import numpy as np\n",
        "import matplotlib.pyplot as plt"
      ]
    },
    {
      "cell_type": "code",
      "execution_count": null,
      "id": "e313ef9a-0e2c-4756-bdef-fca04f4554af",
      "metadata": {
        "id": "e313ef9a-0e2c-4756-bdef-fca04f4554af"
      },
      "outputs": [],
      "source": [
        "# !mkdir data\n",
        "# !pip install gdown"
      ]
    },
    {
      "cell_type": "markdown",
      "id": "3051b460-8922-4b55-9d4b-5443a80602db",
      "metadata": {
        "id": "3051b460-8922-4b55-9d4b-5443a80602db"
      },
      "source": [
        "## Importing Helper Functions"
      ]
    },
    {
      "cell_type": "markdown",
      "source": [],
      "metadata": {
        "id": "FKWywg1gAt8j"
      },
      "id": "FKWywg1gAt8j"
    },
    {
      "cell_type": "markdown",
      "id": "f1fcebf2-62d4-4d85-ac26-f0c8484ad3b4",
      "metadata": {
        "id": "f1fcebf2-62d4-4d85-ac26-f0c8484ad3b4"
      },
      "source": [
        "## Downloading CMU-MOSI Dataset"
      ]
    },
    {
      "cell_type": "markdown",
      "id": "8e723522-ea5b-4d91-a808-b470125f2a21",
      "metadata": {
        "id": "8e723522-ea5b-4d91-a808-b470125f2a21"
      },
      "source": [
        "We download the pickle file from the Google Drive links from the documentation..."
      ]
    },
    {
      "cell_type": "markdown",
      "id": "ceb5d099-faa7-4f7d-afe6-c0419bf6a553",
      "metadata": {
        "id": "ceb5d099-faa7-4f7d-afe6-c0419bf6a553"
      },
      "source": [
        "### mosi_raw.pkl"
      ]
    },
    {
      "cell_type": "code",
      "execution_count": null,
      "id": "b1113467-da58-41d4-881a-dc48637ef385",
      "metadata": {
        "id": "b1113467-da58-41d4-881a-dc48637ef385"
      },
      "outputs": [],
      "source": [
        "# # !cd data\n",
        "# !gdown https://drive.google.com/u/0/uc?id=1szKIqO0t3Be_W91xvf6aYmsVVUa7wDHU"
      ]
    },
    {
      "cell_type": "markdown",
      "id": "f652310a-4536-4d55-bb49-0f350672416e",
      "metadata": {
        "id": "f652310a-4536-4d55-bb49-0f350672416e"
      },
      "source": [
        "### mosi_data.pkl"
      ]
    },
    {
      "cell_type": "code",
      "execution_count": null,
      "id": "d7f71818-45e0-4a12-be45-f8fdd67e6111",
      "metadata": {
        "id": "d7f71818-45e0-4a12-be45-f8fdd67e6111"
      },
      "outputs": [],
      "source": [
        "# !gdown --fuzzy \"https://drive.google.com/file/d/1_XdzdW8UNG1TTS6QcX10uhoS6N11OBit/view?usp=share_link\""
      ]
    },
    {
      "cell_type": "markdown",
      "id": "20585a23-8381-4793-b7e2-85412199e89b",
      "metadata": {
        "id": "20585a23-8381-4793-b7e2-85412199e89b"
      },
      "source": [
        "## Exploring CMU-MOSI Dataset"
      ]
    },
    {
      "cell_type": "code",
      "execution_count": null,
      "id": "2e108bf0-d306-4b57-9243-0ffa1abb7af2",
      "metadata": {
        "id": "2e108bf0-d306-4b57-9243-0ffa1abb7af2"
      },
      "outputs": [],
      "source": [
        "traindata, validdata, testdata = get_dataloader(\n",
        "    '/content/Multimodal-Sentiment-Analysis/mosi_raw.pkl', robust_test=False, max_pad=True, data_type='mosi', max_seq_len=50)"
      ]
    },
    {
      "cell_type": "markdown",
      "id": "b47862f4-0afe-4435-b842-d4859cc7e0e5",
      "metadata": {
        "id": "b47862f4-0afe-4435-b842-d4859cc7e0e5"
      },
      "source": [
        "Verifying the train, validation and test data size."
      ]
    },
    {
      "cell_type": "code",
      "execution_count": null,
      "id": "775bf15f-9772-483b-a3b4-dbe97dd7b324",
      "metadata": {
        "id": "775bf15f-9772-483b-a3b4-dbe97dd7b324",
        "outputId": "fa701bca-e1e7-4674-946e-97c02e6ea2db",
        "colab": {
          "base_uri": "https://localhost:8080/"
        }
      },
      "outputs": [
        {
          "output_type": "stream",
          "name": "stdout",
          "text": [
            "Train Data Size      : 1283\n",
            "Validation Data Size : 214\n",
            "Test  Data Size      : 686\n",
            "Total Data Size      : 2183\n"
          ]
        }
      ],
      "source": [
        "traindata_size = len(traindata.dataset)\n",
        "validdata_size = len(validdata.dataset)\n",
        "testdata_size = len(testdata.dataset)\n",
        "\n",
        "print(\"Train Data Size      :\", traindata_size)\n",
        "print(\"Validation Data Size :\", validdata_size)\n",
        "print(\"Test  Data Size      :\", testdata_size)\n",
        "\n",
        "totaldata_size = traindata_size + validdata_size + testdata_size\n",
        "print(\"Total Data Size      :\", totaldata_size)"
      ]
    },
    {
      "cell_type": "code",
      "execution_count": null,
      "id": "201cdd51-baf0-4eda-9b58-3359f3a883ad",
      "metadata": {
        "id": "201cdd51-baf0-4eda-9b58-3359f3a883ad"
      },
      "outputs": [],
      "source": [
        "for batch in traindata:\n",
        "    inputs = batch\n",
        "    break"
      ]
    },
    {
      "cell_type": "code",
      "execution_count": null,
      "id": "6c8e71d5-77e2-4fe1-9462-4f455744709b",
      "metadata": {
        "id": "6c8e71d5-77e2-4fe1-9462-4f455744709b",
        "outputId": "afd7c981-787f-466a-9181-04e671350995",
        "colab": {
          "base_uri": "https://localhost:8080/"
        }
      },
      "outputs": [
        {
          "output_type": "stream",
          "name": "stdout",
          "text": [
            "Shape of input sample: 4\n",
            "Shape of input item 1: torch.Size([32, 50, 35])\n",
            "Shape of input item 2: torch.Size([32, 50, 74])\n",
            "Shape of input item 3: torch.Size([32, 50, 300])\n",
            "Shape of input item 4: torch.Size([32, 1])\n"
          ]
        }
      ],
      "source": [
        "print(\"Shape of input sample:\", len(inputs))\n",
        "print(\"Shape of input item 1:\", inputs[0].shape)\n",
        "print(\"Shape of input item 2:\", inputs[1].shape)\n",
        "print(\"Shape of input item 3:\", inputs[2].shape)\n",
        "print(\"Shape of input item 4:\", inputs[3].shape)"
      ]
    },
    {
      "cell_type": "code",
      "execution_count": null,
      "id": "48ccc459-4296-46a4-beac-e29b1e47cb4b",
      "metadata": {
        "id": "48ccc459-4296-46a4-beac-e29b1e47cb4b",
        "outputId": "9afc59e4-2a01-4a4d-9f7b-8f76d446bba7",
        "colab": {
          "base_uri": "https://localhost:8080/",
          "height": 406
        }
      },
      "outputs": [
        {
          "output_type": "display_data",
          "data": {
            "text/plain": [
              "<Figure size 640x480 with 1 Axes>"
            ],
            "image/png": "[encoded data removed]"
          },
          "metadata": {}
        }
      ],
      "source": [
        "plt.imshow(inputs[0][0], cmap='gray')\n",
        "plt.axis('off')\n",
        "plt.show()"
      ]
    },
    {
      "cell_type": "code",
      "execution_count": null,
      "id": "ce8526ae-8bad-4e1b-866c-1131d981f5d8",
      "metadata": {
        "id": "ce8526ae-8bad-4e1b-866c-1131d981f5d8",
        "outputId": "ca7057c9-2fb2-466f-ce19-c5c96dab5003",
        "colab": {
          "base_uri": "https://localhost:8080/",
          "height": 372
        }
      },
      "outputs": [
        {
          "output_type": "display_data",
          "data": {
            "text/plain": [
              "<Figure size 640x480 with 1 Axes>"
            ],
            "image/png": "[encoded data removed]"
          },
          "metadata": {}
        }
      ],
      "source": [
        "plt.imshow(inputs[1][0], cmap='gray')\n",
        "plt.axis('off')\n",
        "plt.show()"
      ]
    },
    {
      "cell_type": "code",
      "execution_count": null,
      "id": "eafd77ff-13bd-47aa-b8a2-7f198e1321de",
      "metadata": {
        "id": "eafd77ff-13bd-47aa-b8a2-7f198e1321de",
        "outputId": "6eb9f2fa-4cc8-4c73-d346-f7e9d0e74b2d",
        "colab": {
          "base_uri": "https://localhost:8080/",
          "height": 119
        }
      },
      "outputs": [
        {
          "output_type": "display_data",
          "data": {
            "text/plain": [
              "<Figure size 640x480 with 1 Axes>"
            ],
            "image/png": "[encoded data removed]"
          },
          "metadata": {}
        }
      ],
      "source": [
        "plt.imshow(inputs[2][0], cmap='gray')\n",
        "plt.axis('off')\n",
        "plt.show()"
      ]
    },
    {
      "cell_type": "code",
      "execution_count": null,
      "id": "46a4b0e5-8fa4-41a3-a4be-b7cf2241967b",
      "metadata": {
        "id": "46a4b0e5-8fa4-41a3-a4be-b7cf2241967b",
        "outputId": "86574b36-8dc1-4646-e137-6d4d8fdff4a5",
        "colab": {
          "base_uri": "https://localhost:8080/"
        }
      },
      "outputs": [
        {
          "output_type": "execute_result",
          "data": {
            "text/plain": [
              "tensor([-1.4000])"
            ]
          },
          "metadata": {},
          "execution_count": 18
        }
      ],
      "source": [
        "inputs[3][0]"
      ]
    },
    {
      "cell_type": "markdown",
      "source": [
        "## EARLY FUSION"
      ],
      "metadata": {
        "id": "XKmZmDEqMxHA"
      },
      "id": "XKmZmDEqMxHA"
    },
    {
      "cell_type": "code",
      "source": [
        "import os\n",
        "import sys\n",
        "import torch\n",
        "\n",
        "import numpy as np\n",
        "import matplotlib.pyplot as plt\n",
        "\n",
        "sys.path.append(os.getcwd())\n",
        "sys.path.append(os.path.dirname(os.path.dirname(os.getcwd())))"
      ],
      "metadata": {
        "id": "O0jXYleUMyh_"
      },
      "id": "O0jXYleUMyh_",
      "execution_count": null,
      "outputs": []
    },
    {
      "cell_type": "code",
      "source": [
        "# !pip install torch --upgrade\n"
      ],
      "metadata": {
        "id": "w0z_7IrmNPD4"
      },
      "id": "w0z_7IrmNPD4",
      "execution_count": null,
      "outputs": []
    },
    {
      "cell_type": "code",
      "source": [
        "# # For CUDA 11.3\n",
        "# !pip install torch==1.11.0+cu113 torchvision==0.11.0+cu113 torchaudio==0.11.0 -f https://download.pytorch.org/whl/torch_stable.html\n"
      ],
      "metadata": {
        "id": "drgsc1HkOVK_"
      },
      "id": "drgsc1HkOVK_",
      "execution_count": null,
      "outputs": []
    },
    {
      "cell_type": "code",
      "source": [
        "# !pip install --upgrade torch torchvision torchaudio --index-url https://download.pytorch.org/whl/cu118"
      ],
      "metadata": {
        "id": "vP2ebOiOPBdh"
      },
      "id": "vP2ebOiOPBdh",
      "execution_count": null,
      "outputs": []
    },
    {
      "cell_type": "code",
      "source": [
        "!pip install torchvision==0.13.1\n"
      ],
      "metadata": {
        "colab": {
          "base_uri": "https://localhost:8080/"
        },
        "id": "oxY7F3wgQcCt",
        "outputId": "7a57c3ed-27fb-499b-eb8f-48445fd7a4a6"
      },
      "id": "oxY7F3wgQcCt",
      "execution_count": null,
      "outputs": [
        {
          "output_type": "stream",
          "name": "stdout",
          "text": [
            "Collecting torchvision==0.13.1\n",
            "  Downloading torchvision-0.13.1-cp310-cp310-manylinux1_x86_64.whl.metadata (10 kB)\n",
            "Requirement already satisfied: typing-extensions in /usr/local/lib/python3.10/dist-packages (from torchvision==0.13.1) (4.12.2)\n",
            "Requirement already satisfied: numpy in /usr/local/lib/python3.10/dist-packages (from torchvision==0.13.1) (1.26.4)\n",
            "Requirement already satisfied: requests in /usr/local/lib/python3.10/dist-packages (from torchvision==0.13.1) (2.32.3)\n",
            "Requirement already satisfied: torch==1.12.1 in /usr/local/lib/python3.10/dist-packages (from torchvision==0.13.1) (1.12.1)\n",
            "Requirement already satisfied: pillow!=8.3.*,>=5.3.0 in /usr/local/lib/python3.10/dist-packages (from torchvision==0.13.1) (11.0.0)\n",
            "Requirement already satisfied: charset-normalizer<4,>=2 in /usr/local/lib/python3.10/dist-packages (from requests->torchvision==0.13.1) (3.4.0)\n",
            "Requirement already satisfied: idna<4,>=2.5 in /usr/local/lib/python3.10/dist-packages (from requests->torchvision==0.13.1) (3.10)\n",
            "Requirement already satisfied: urllib3<3,>=1.21.1 in /usr/local/lib/python3.10/dist-packages (from requests->torchvision==0.13.1) (2.2.3)\n",
            "Requirement already satisfied: certifi>=2017.4.17 in /usr/local/lib/python3.10/dist-packages (from requests->torchvision==0.13.1) (2024.8.30)\n",
            "Downloading torchvision-0.13.1-cp310-cp310-manylinux1_x86_64.whl (19.1 MB)\n",
            "\u001b[2K   \u001b[90m━━━━━━━━━━━━━━━━━━━━━━━━━━━━━━━━━━━━━━━━\u001b[0m \u001b[32m19.1/19.1 MB\u001b[0m \u001b[31m82.0 MB/s\u001b[0m eta \u001b[36m0:00:00\u001b[0m\n",
            "\u001b[?25hInstalling collected packages: torchvision\n",
            "Successfully installed torchvision-0.13.1\n"
          ]
        }
      ]
    },
    {
      "cell_type": "code",
      "source": [
        "!pip install memory_profiler\n"
      ],
      "metadata": {
        "colab": {
          "base_uri": "https://localhost:8080/"
        },
        "id": "miAdtCA_QyAU",
        "outputId": "c63b0f32-bb49-4e12-b2e1-5bed5c39d2d1"
      },
      "id": "miAdtCA_QyAU",
      "execution_count": null,
      "outputs": [
        {
          "output_type": "stream",
          "name": "stdout",
          "text": [
            "Collecting memory_profiler\n",
            "  Downloading memory_profiler-0.61.0-py3-none-any.whl.metadata (20 kB)\n",
            "Requirement already satisfied: psutil in /usr/local/lib/python3.10/dist-packages (from memory_profiler) (5.9.5)\n",
            "Downloading memory_profiler-0.61.0-py3-none-any.whl (31 kB)\n",
            "Installing collected packages: memory_profiler\n",
            "Successfully installed memory_profiler-0.61.0\n"
          ]
        }
      ]
    },
    {
      "cell_type": "code",
      "source": [
        "from helpers.data.get_data import get_dataloader\n",
        "from helpers.unimodals.common_models import GRU, MLP, Sequential, Identity\n",
        "from helpers.training.supervised_learning import train, test\n",
        "from helpers.fusions.common_fusions import ConcatEarly\n",
        "from helpers.utils.common_utils import get_default_device, save_results"
      ],
      "metadata": {
        "id": "OGE7Z58SM2Rc"
      },
      "id": "OGE7Z58SM2Rc",
      "execution_count": null,
      "outputs": []
    },
    {
      "cell_type": "code",
      "source": [
        "traindata, validdata, testdata = get_dataloader(\n",
        "    '/content/Multimodal-Sentiment-Analysis/mosi_raw.pkl', robust_test=False, max_pad=True, data_type='mosi', max_seq_len=50)"
      ],
      "metadata": {
        "id": "FBHL4aAYM4Ll"
      },
      "id": "FBHL4aAYM4Ll",
      "execution_count": null,
      "outputs": []
    },
    {
      "cell_type": "code",
      "source": [
        "device = get_default_device()\n",
        "print(device)"
      ],
      "metadata": {
        "colab": {
          "base_uri": "https://localhost:8080/"
        },
        "id": "YxjQXe3DQ8N6",
        "outputId": "aa6e9b95-5fb5-4836-9205-c427853f4b32"
      },
      "id": "YxjQXe3DQ8N6",
      "execution_count": null,
      "outputs": [
        {
          "output_type": "stream",
          "name": "stdout",
          "text": [
            "cpu\n"
          ]
        }
      ]
    },
    {
      "cell_type": "code",
      "source": [
        "encoders = [Identity().to(device), Identity().to(device), Identity().to(device)]\n",
        "head = Sequential(GRU(409, 512, dropout=True, has_padding=False,\n",
        "                  batch_first=True, last_only=True), MLP(512, 512, 1)).to(device)"
      ],
      "metadata": {
        "id": "8R8k4XBpQ_y7"
      },
      "id": "8R8k4XBpQ_y7",
      "execution_count": null,
      "outputs": []
    },
    {
      "cell_type": "code",
      "source": [
        "fusion = ConcatEarly().to(device)\n"
      ],
      "metadata": {
        "id": "fxvJtSNXRC-o"
      },
      "id": "fxvJtSNXRC-o",
      "execution_count": null,
      "outputs": []
    },
    {
      "cell_type": "code",
      "source": [
        "FILE_NAME = 'mosi_ef_r0'\n"
      ],
      "metadata": {
        "id": "NZt9VN_8RFFS"
      },
      "id": "NZt9VN_8RFFS",
      "execution_count": null,
      "outputs": []
    },
    {
      "cell_type": "code",
      "source": [
        "rain_losses, valid_losses = train(encoders, fusion, head, traindata, validdata, 100, task=\"regression\", optimtype=torch.optim.AdamW,\n",
        "      is_packed=False, lr=1e-3, save=f'/content/drive/MyDrive/Btech project/saum_mmal/models/{FILE_NAME}.pt', weight_decay=0.01, objective=torch.nn.L1Loss())"
      ],
      "metadata": {
        "colab": {
          "base_uri": "https://localhost:8080/"
        },
        "id": "2t1pkR6XRHRy",
        "outputId": "1279ca1d-0465-46bd-8fd5-caf94e7d9f27"
      },
      "id": "2t1pkR6XRHRy",
      "execution_count": null,
      "outputs": [
        {
          "output_type": "stream",
          "name": "stdout",
          "text": [
            "Epoch [1/100]\n",
            "Train Loss: 1.3256\n",
            "Valid Loss: 1.3852\n",
            "Saving Best\n",
            "\n",
            "Epoch [2/100]\n",
            "Train Loss: 1.3193\n",
            "Valid Loss: 1.3883\n",
            "\n",
            "Epoch [3/100]\n",
            "Train Loss: 1.3207\n",
            "Valid Loss: 1.3844\n",
            "Saving Best\n",
            "\n",
            "Epoch [4/100]\n",
            "Train Loss: 1.3293\n",
            "Valid Loss: 1.3880\n",
            "\n",
            "Epoch [5/100]\n",
            "Train Loss: 1.3180\n",
            "Valid Loss: 1.3871\n",
            "\n",
            "Epoch [6/100]\n",
            "Train Loss: 1.3194\n",
            "Valid Loss: 1.3887\n",
            "\n",
            "Epoch [7/100]\n",
            "Train Loss: 1.3163\n",
            "Valid Loss: 1.3854\n",
            "\n",
            "Epoch [8/100]\n",
            "Train Loss: 1.3183\n",
            "Valid Loss: 1.3858\n",
            "\n",
            "Epoch [9/100]\n",
            "Train Loss: 1.3202\n",
            "Valid Loss: 1.3689\n",
            "Saving Best\n",
            "\n",
            "Epoch [10/100]\n",
            "Train Loss: 1.3187\n",
            "Valid Loss: 1.3852\n",
            "\n",
            "Epoch [11/100]\n",
            "Train Loss: 1.3172\n",
            "Valid Loss: 1.3865\n",
            "\n",
            "Epoch [12/100]\n",
            "Train Loss: 1.3151\n",
            "Valid Loss: 1.3848\n",
            "\n",
            "Epoch [13/100]\n",
            "Train Loss: 1.3181\n",
            "Valid Loss: 1.3824\n",
            "\n",
            "Epoch [14/100]\n",
            "Train Loss: 1.3159\n",
            "Valid Loss: 1.3825\n",
            "\n",
            "Epoch [15/100]\n",
            "Train Loss: 1.3133\n",
            "Valid Loss: 1.3908\n",
            "\n",
            "Epoch [16/100]\n",
            "Train Loss: 1.3139\n",
            "Valid Loss: 1.3827\n",
            "\n",
            "Epoch [17/100]\n",
            "Train Loss: 1.3133\n",
            "Valid Loss: 1.3885\n",
            "\n",
            "Epoch [18/100]\n",
            "Train Loss: 1.3139\n",
            "Valid Loss: 1.3901\n",
            "\n",
            "Epoch [19/100]\n",
            "Train Loss: 1.3118\n",
            "Valid Loss: 1.3849\n",
            "\n",
            "Epoch [20/100]\n",
            "Train Loss: 1.3121\n",
            "Valid Loss: 1.3860\n",
            "\n",
            "Epoch [21/100]\n",
            "Train Loss: 1.3154\n",
            "Valid Loss: 1.3868\n",
            "\n",
            "Epoch [22/100]\n",
            "Train Loss: 1.3151\n",
            "Valid Loss: 1.3902\n",
            "\n",
            "Epoch [23/100]\n",
            "Train Loss: 1.3117\n",
            "Valid Loss: 1.3853\n",
            "\n",
            "Epoch [24/100]\n",
            "Train Loss: 1.3136\n",
            "Valid Loss: 1.3847\n",
            "\n",
            "Epoch [25/100]\n",
            "Train Loss: 1.3137\n",
            "Valid Loss: 1.3807\n",
            "\n",
            "Epoch [26/100]\n",
            "Train Loss: 1.3162\n",
            "Valid Loss: 1.3855\n",
            "\n",
            "Epoch [27/100]\n",
            "Train Loss: 1.3136\n",
            "Valid Loss: 1.3817\n",
            "\n",
            "Epoch [28/100]\n",
            "Train Loss: 1.3202\n",
            "Valid Loss: 1.3713\n",
            "\n",
            "Epoch [29/100]\n",
            "Train Loss: 1.3205\n",
            "Valid Loss: 1.3945\n",
            "\n",
            "Epoch [30/100]\n",
            "Train Loss: 1.3139\n",
            "Valid Loss: 1.3822\n",
            "\n",
            "Epoch [31/100]\n",
            "Train Loss: 1.3146\n",
            "Valid Loss: 1.3803\n",
            "\n",
            "Epoch [32/100]\n",
            "Train Loss: 1.3085\n",
            "Valid Loss: 1.3789\n",
            "\n",
            "Epoch [33/100]\n",
            "Train Loss: 1.3079\n",
            "Valid Loss: 1.3814\n",
            "\n",
            "Epoch [34/100]\n",
            "Train Loss: 1.3093\n",
            "Valid Loss: 1.3859\n",
            "\n",
            "Epoch [35/100]\n",
            "Train Loss: 1.3087\n",
            "Valid Loss: 1.3865\n",
            "\n",
            "Epoch [36/100]\n",
            "Train Loss: 1.3015\n",
            "Valid Loss: 1.4123\n",
            "\n",
            "Epoch [37/100]\n",
            "Train Loss: 1.3056\n",
            "Valid Loss: 1.3875\n",
            "\n",
            "Epoch [38/100]\n",
            "Train Loss: 1.2979\n",
            "Valid Loss: 1.3827\n",
            "\n",
            "Epoch [39/100]\n",
            "Train Loss: 1.2925\n",
            "Valid Loss: 1.3754\n",
            "\n",
            "Epoch [40/100]\n",
            "Train Loss: 1.2869\n",
            "Valid Loss: 1.3445\n",
            "Saving Best\n",
            "\n",
            "Epoch [41/100]\n",
            "Train Loss: 1.2773\n",
            "Valid Loss: 1.3611\n",
            "\n",
            "Epoch [42/100]\n",
            "Train Loss: 1.2232\n",
            "Valid Loss: 1.3479\n",
            "\n",
            "Epoch [43/100]\n",
            "Train Loss: 1.1573\n",
            "Valid Loss: 1.4099\n",
            "\n",
            "Epoch [44/100]\n",
            "Train Loss: 1.1459\n",
            "Valid Loss: 1.5446\n",
            "\n",
            "Epoch [45/100]\n",
            "Train Loss: 1.1303\n",
            "Valid Loss: 1.4641\n",
            "\n",
            "Epoch [46/100]\n",
            "Train Loss: 1.1353\n",
            "Valid Loss: 1.3474\n",
            "\n",
            "Epoch [47/100]\n",
            "Train Loss: 1.0585\n",
            "Valid Loss: 1.4450\n",
            "\n",
            "Epoch [48/100]\n",
            "Train Loss: 1.0275\n",
            "Valid Loss: 1.3791\n",
            "\n",
            "Epoch [49/100]\n",
            "Train Loss: 1.0076\n",
            "Valid Loss: 1.3011\n",
            "Saving Best\n",
            "\n",
            "Epoch [50/100]\n",
            "Train Loss: 0.9775\n",
            "Valid Loss: 1.3471\n",
            "\n",
            "Epoch [51/100]\n",
            "Train Loss: 0.9760\n",
            "Valid Loss: 1.3221\n",
            "\n",
            "Epoch [52/100]\n",
            "Train Loss: 0.9426\n",
            "Valid Loss: 1.3090\n",
            "\n",
            "Epoch [53/100]\n",
            "Train Loss: 0.9667\n",
            "Valid Loss: 1.3350\n",
            "\n",
            "Epoch [54/100]\n",
            "Train Loss: 0.9149\n",
            "Valid Loss: 1.4145\n",
            "\n",
            "Epoch [55/100]\n",
            "Train Loss: 0.8921\n",
            "Valid Loss: 1.3393\n",
            "\n",
            "Epoch [56/100]\n",
            "Train Loss: 0.8716\n",
            "Valid Loss: 1.3932\n",
            "\n",
            "Epoch [57/100]\n",
            "Train Loss: 0.9203\n",
            "Valid Loss: 1.4199\n",
            "\n",
            "Epoch [58/100]\n",
            "Train Loss: 0.8310\n",
            "Valid Loss: 1.3951\n",
            "\n",
            "Epoch [59/100]\n",
            "Train Loss: 0.8008\n",
            "Valid Loss: 1.3256\n",
            "\n",
            "Epoch [60/100]\n",
            "Train Loss: 0.7834\n",
            "Valid Loss: 1.3763\n",
            "\n",
            "Epoch [61/100]\n",
            "Train Loss: 0.7587\n",
            "Valid Loss: 1.3214\n",
            "\n",
            "Epoch [62/100]\n",
            "Train Loss: 0.7299\n",
            "Valid Loss: 1.3584\n",
            "\n",
            "Epoch [63/100]\n",
            "Train Loss: 0.6931\n",
            "Valid Loss: 1.4152\n",
            "\n",
            "Epoch [64/100]\n",
            "Train Loss: 0.7196\n",
            "Valid Loss: 1.4637\n",
            "\n",
            "Epoch [65/100]\n",
            "Train Loss: 0.6711\n",
            "Valid Loss: 1.4671\n",
            "\n",
            "Epoch [66/100]\n",
            "Train Loss: 0.6948\n",
            "Valid Loss: 1.5024\n",
            "\n",
            "Epoch [67/100]\n",
            "Train Loss: 0.6377\n",
            "Valid Loss: 1.4732\n",
            "\n",
            "Epoch [68/100]\n",
            "Train Loss: 0.6499\n",
            "Valid Loss: 1.3623\n",
            "\n",
            "Epoch [69/100]\n",
            "Train Loss: 0.6449\n",
            "Valid Loss: 1.3724\n",
            "\n",
            "Epoch [70/100]\n",
            "Train Loss: 0.6315\n",
            "Valid Loss: 1.4129\n",
            "\n",
            "Epoch [71/100]\n",
            "Train Loss: 0.5976\n",
            "Valid Loss: 1.4344\n",
            "\n",
            "Epoch [72/100]\n",
            "Train Loss: 0.5709\n",
            "Valid Loss: 1.5291\n",
            "\n",
            "Epoch [73/100]\n",
            "Train Loss: 0.5663\n",
            "Valid Loss: 1.4146\n",
            "\n",
            "Epoch [74/100]\n",
            "Train Loss: 0.5609\n",
            "Valid Loss: 1.4769\n",
            "\n",
            "Epoch [75/100]\n",
            "Train Loss: 0.5373\n",
            "Valid Loss: 1.4403\n",
            "\n",
            "Epoch [76/100]\n",
            "Train Loss: 0.5205\n",
            "Valid Loss: 1.4271\n",
            "\n",
            "Epoch [77/100]\n",
            "Train Loss: 0.5161\n",
            "Valid Loss: 1.4466\n",
            "\n",
            "Epoch [78/100]\n",
            "Train Loss: 0.5097\n",
            "Valid Loss: 1.4558\n",
            "\n",
            "Epoch [79/100]\n",
            "Train Loss: 0.5123\n",
            "Valid Loss: 1.4133\n",
            "\n",
            "Epoch [80/100]\n",
            "Train Loss: 0.5381\n",
            "Valid Loss: 1.4287\n",
            "\n",
            "Epoch [81/100]\n",
            "Train Loss: 0.4905\n",
            "Valid Loss: 1.3953\n",
            "\n",
            "Epoch [82/100]\n",
            "Train Loss: 0.5208\n",
            "Valid Loss: 1.4169\n",
            "\n",
            "Epoch [83/100]\n",
            "Train Loss: 0.4608\n",
            "Valid Loss: 1.4673\n",
            "\n",
            "Epoch [84/100]\n",
            "Train Loss: 0.4414\n",
            "Valid Loss: 1.3702\n",
            "\n",
            "Epoch [85/100]\n",
            "Train Loss: 0.4568\n",
            "Valid Loss: 1.4620\n",
            "\n",
            "Epoch [86/100]\n",
            "Train Loss: 0.4356\n",
            "Valid Loss: 1.4008\n",
            "\n",
            "Epoch [87/100]\n",
            "Train Loss: 0.4460\n",
            "Valid Loss: 1.4662\n",
            "\n",
            "Epoch [88/100]\n",
            "Train Loss: 0.4351\n",
            "Valid Loss: 1.5026\n",
            "\n",
            "Epoch [89/100]\n",
            "Train Loss: 0.4287\n",
            "Valid Loss: 1.5221\n",
            "\n",
            "Epoch [90/100]\n",
            "Train Loss: 0.4190\n",
            "Valid Loss: 1.4623\n",
            "\n",
            "Epoch [91/100]\n",
            "Train Loss: 0.4019\n",
            "Valid Loss: 1.5508\n",
            "\n",
            "Epoch [92/100]\n",
            "Train Loss: 0.4165\n",
            "Valid Loss: 1.4063\n",
            "\n",
            "Epoch [93/100]\n",
            "Train Loss: 0.3890\n",
            "Valid Loss: 1.4333\n",
            "\n",
            "Epoch [94/100]\n",
            "Train Loss: 0.3834\n",
            "Valid Loss: 1.4228\n",
            "\n",
            "Epoch [95/100]\n",
            "Train Loss: 0.3802\n",
            "Valid Loss: 1.4138\n",
            "\n",
            "Epoch [96/100]\n",
            "Train Loss: 0.3555\n",
            "Valid Loss: 1.4092\n",
            "\n",
            "Epoch [97/100]\n",
            "Train Loss: 0.3726\n",
            "Valid Loss: 1.4063\n",
            "\n",
            "Epoch [98/100]\n",
            "Train Loss: 0.3805\n",
            "Valid Loss: 1.4628\n",
            "\n",
            "Epoch [99/100]\n",
            "Train Loss: 0.3449\n",
            "Valid Loss: 1.4592\n",
            "\n",
            "Epoch [100/100]\n",
            "Train Loss: 0.3414\n",
            "Valid Loss: 1.4764\n",
            "\n",
            "Training Time: 21m34s\n",
            "Training Peak Mem: 1508.82421875\n",
            "Training Params: 1680897\n"
          ]
        }
      ]
    },
    {
      "cell_type": "code",
      "source": [
        "plt.plot(rain_losses, label='Train Loss')\n",
        "plt.plot(valid_losses, label='Validation Loss')\n",
        "plt.xlabel('Epochs')\n",
        "plt.ylabel('Loss')\n",
        "plt.legend()\n",
        "plt.grid(True)\n",
        "plt.title('Loss vs. No. of epochs')\n"
      ],
      "metadata": {
        "colab": {
          "base_uri": "https://localhost:8080/",
          "height": 489
        },
        "id": "yr8wZVKgR99t",
        "outputId": "123342e0-e1c0-4df3-fd1f-b00baf132b0a"
      },
      "id": "yr8wZVKgR99t",
      "execution_count": null,
      "outputs": [
        {
          "output_type": "execute_result",
          "data": {
            "text/plain": [
              "Text(0.5, 1.0, 'Loss vs. No. of epochs')"
            ]
          },
          "metadata": {},
          "execution_count": 37
        },
        {
          "output_type": "display_data",
          "data": {
            "text/plain": [
              "<Figure size 640x480 with 1 Axes>"
            ],
            "image/png": "[encoded data removed]"
          },
          "metadata": {}
        }
      ]
    },
    {
      "cell_type": "code",
      "source": [
        "save_results(rain_losses, valid_losses, f'/content/drive/MyDrive/Btech project/saum_mmal/results/{FILE_NAME}.pkl')\n"
      ],
      "metadata": {
        "id": "FPsdqBU5SBVr"
      },
      "id": "FPsdqBU5SBVr",
      "execution_count": null,
      "outputs": []
    },
    {
      "cell_type": "code",
      "source": [
        "model = torch.load(f'//content/drive/MyDrive/Btech project/saum_mmal/models/{FILE_NAME}.pt').to(device)\n",
        "\n",
        "test(model, testdata, 'affect', is_packed=False,\n",
        "     criterion=torch.nn.L1Loss(), task=\"posneg-classification\", no_robust=True)"
      ],
      "metadata": {
        "colab": {
          "base_uri": "https://localhost:8080/"
        },
        "id": "i5NHvoCnSb13",
        "outputId": "e80afc59-d57c-404b-8a01-718b9c7d645c"
      },
      "id": "i5NHvoCnSb13",
      "execution_count": null,
      "outputs": [
        {
          "output_type": "stream",
          "name": "stdout",
          "text": [
            "Recall: 61.5854% | Total Accuracy: 60.6414%\n",
            "Inference Time: 1s84ms\n",
            "Inference Params: 1680897\n"
          ]
        }
      ]
    },
    {
      "cell_type": "code",
      "source": [],
      "metadata": {
        "id": "onPKNWSpZlZY"
      },
      "id": "onPKNWSpZlZY",
      "execution_count": null,
      "outputs": []
    }
  ],
  "metadata": {
    "kernelspec": {
      "display_name": "Python 3",
      "name": "python3"
    },
    "language_info": {
      "codemirror_mode": {
        "name": "ipython",
        "version": 3
      },
      "file_extension": ".py",
      "mimetype": "text/x-python",
      "name": "python",
      "nbconvert_exporter": "python",
      "pygments_lexer": "ipython3",
      "version": "3.11.7"
    },
    "colab": {
      "provenance": [],
      "gpuType": "V28"
    },
    "accelerator": "TPU"
  },
  "nbformat": 4,
  "nbformat_minor": 5
}